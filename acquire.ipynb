{
 "cells": [
  {
   "cell_type": "code",
   "execution_count": 1,
   "id": "987761d1",
   "metadata": {},
   "outputs": [],
   "source": [
    "# import libraries for working with arrays and DataFrames\n",
    "import numpy as np\n",
    "import pandas as pd\n",
    "# import libraries for importing data via sql and/or csv\n",
    "import os\n",
    "import env"
   ]
  },
  {
   "cell_type": "code",
   "execution_count": 2,
   "id": "104608ae",
   "metadata": {},
   "outputs": [],
   "source": [
    "# function to create a sql connection string\n",
    "def get_db_url(db_name, host=env.host, user=env.user, password=env.password):\n",
    "    '''\n",
    "    The get_db_url function will return a sql connection url string.\n",
    "    This function relies on there being an env.py file in the local directory containing:\n",
    "    host (sql database host address), \n",
    "    user (username to connect to sql database), \n",
    "    password (password for your username to connect to the sql database)\n",
    "    '''\n",
    "    url = f'mysql+pymysql://{user}:{password}@{host}/{db_name}'\n",
    "    return url"
   ]
  },
  {
   "cell_type": "code",
   "execution_count": 5,
   "id": "1030174c",
   "metadata": {},
   "outputs": [],
   "source": [
    "# function to retrieve the telco dataset\n",
    "def get_telco_data():\n",
    "    '''\n",
    "    get_telco_data will look for a telco.csv file in the local directory, \n",
    "    if one does not exist, the function will connect to a sql database utilizing\n",
    "    the get_db_url and retrieve the telco_churn data then create a telco.csv file\n",
    "    and return the data as a pandas DataFrame\n",
    "    otherwise, if the file exists this function will open the telco.csv file\n",
    "    and return the data as a pandas DataFrame.\n",
    "    '''\n",
    "    \n",
    "    filename = \"telco.csv\"\n",
    "\n",
    "    #check if cached exists\n",
    "    if os.path.isfile(filename):\n",
    "        #return cached data\n",
    "        print('opening data from file')\n",
    "        return pd.read_csv(filename, index_col=0)\n",
    "    else:\n",
    "        # read the SQL query into a dataframe\n",
    "        print('cached file not found, creating new file')\n",
    "        # create connection string using get_db_url function\n",
    "        connection = get_db_url('telco_churn')\n",
    "        # sql query\n",
    "        query = '''\n",
    "SELECT *\n",
    "FROM customers\n",
    "\tJOIN contract_types\n",
    "\t\tUSING (contract_type_id)\n",
    "\tJOIN internet_service_types\n",
    "\t\tUSING (internet_service_type_id)\n",
    "\tJOIN payment_types\n",
    "\t\tUSING (payment_type_id)\n",
    "-- limit 5\n",
    ";\n",
    "        '''\n",
    "        df = pd.read_sql(query, connection)\n",
    "    \n",
    "        # Write that dataframe to disk for later. Called \"caching\" the data for later.\n",
    "        df.to_csv(filename)\n",
    "        # return the dataframe\n",
    "        return df"
   ]
  }
 ],
 "metadata": {
  "kernelspec": {
   "display_name": "Python 3 (ipykernel)",
   "language": "python",
   "name": "python3"
  },
  "language_info": {
   "codemirror_mode": {
    "name": "ipython",
    "version": 3
   },
   "file_extension": ".py",
   "mimetype": "text/x-python",
   "name": "python",
   "nbconvert_exporter": "python",
   "pygments_lexer": "ipython3",
   "version": "3.9.13"
  }
 },
 "nbformat": 4,
 "nbformat_minor": 5
}
