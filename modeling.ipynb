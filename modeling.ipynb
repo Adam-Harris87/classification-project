{
 "cells": [
  {
   "cell_type": "code",
   "execution_count": 1,
   "id": "3fb4d523",
   "metadata": {},
   "outputs": [],
   "source": [
    "import numpy as np\n",
    "import pandas as pd\n",
    "\n",
    "from sklearn.tree import DecisionTreeClassifier, plot_tree\n",
    "from sklearn.metrics import classification_report, confusion_matrix, recall_score,\\\n",
    "accuracy_score\n",
    "from sklearn.ensemble import RandomForestClassifier\n",
    "from sklearn.neighbors import KNeighborsClassifier\n",
    "from sklearn.linear_model import LogisticRegression\n",
    "\n",
    "import prepare"
   ]
  },
  {
   "cell_type": "code",
   "execution_count": 2,
   "id": "efc035f4",
   "metadata": {},
   "outputs": [
    {
     "name": "stdout",
     "output_type": "stream",
     "text": [
      "opening data from file\n"
     ]
    }
   ],
   "source": [
    "df = prepare.wrangle()\n",
    "train, validate, test = prepare.split_data(df)"
   ]
  },
  {
   "cell_type": "code",
   "execution_count": 3,
   "id": "0753401e",
   "metadata": {},
   "outputs": [
    {
     "data": {
      "text/plain": [
       "0    2897\n",
       "1    1046\n",
       "Name: churn, dtype: int64"
      ]
     },
     "execution_count": 3,
     "metadata": {},
     "output_type": "execute_result"
    }
   ],
   "source": [
    "train.churn.value_counts()"
   ]
  },
  {
   "cell_type": "markdown",
   "id": "4cb2b6fd",
   "metadata": {},
   "source": [
    "Our baseline prediction will be that a customer will not churn (churn = 0)"
   ]
  },
  {
   "cell_type": "code",
   "execution_count": 4,
   "id": "d4ac2e03",
   "metadata": {},
   "outputs": [],
   "source": [
    "baseline = [0] * len(train)"
   ]
  },
  {
   "cell_type": "code",
   "execution_count": 5,
   "id": "90a60243",
   "metadata": {},
   "outputs": [
    {
     "data": {
      "text/plain": [
       "True"
      ]
     },
     "execution_count": 5,
     "metadata": {},
     "output_type": "execute_result"
    }
   ],
   "source": [
    "len(baseline) == len(train)"
   ]
  },
  {
   "cell_type": "code",
   "execution_count": 6,
   "id": "1947048f",
   "metadata": {},
   "outputs": [
    {
     "name": "stdout",
     "output_type": "stream",
     "text": [
      "The baseline prediction score accuracy is: 73.47%\n"
     ]
    }
   ],
   "source": [
    "print(f'The baseline prediction score accuracy is: {(train.churn == baseline).mean():.2%}')"
   ]
  },
  {
   "cell_type": "code",
   "execution_count": 8,
   "id": "b0272bee",
   "metadata": {},
   "outputs": [
    {
     "data": {
      "text/plain": [
       "Index(['customer_id', 'gender', 'senior_citizen', 'partner', 'dependents',\n",
       "       'tenure', 'phone_service', 'multiple_lines', 'online_security',\n",
       "       'online_backup', 'device_protection', 'tech_support', 'streaming_tv',\n",
       "       'streaming_movies', 'paperless_billing', 'monthly_charges',\n",
       "       'total_charges', 'churn', 'contract_type', 'internet_service_type',\n",
       "       'payment_type', 'gender_male', 'multiple_lines_no_phone_service',\n",
       "       'multiple_lines_yes', 'online_security_no_internet_service',\n",
       "       'online_security_yes', 'online_backup_no_internet_service',\n",
       "       'online_backup_yes', 'device_protection_no_internet_service',\n",
       "       'device_protection_yes', 'tech_support_no_internet_service',\n",
       "       'tech_support_yes', 'streaming_tv_no_internet_service',\n",
       "       'streaming_tv_yes', 'streaming_movies_no_internet_service',\n",
       "       'streaming_movies_yes', 'contract_type_one_year',\n",
       "       'contract_type_two_year', 'internet_service_type_fiber_optic',\n",
       "       'internet_service_type_none', 'payment_type_credit_card_automatic',\n",
       "       'payment_type_electronic_check', 'payment_type_mailed_check',\n",
       "       'neither_security_or_backup'],\n",
       "      dtype='object')"
      ]
     },
     "execution_count": 8,
     "metadata": {},
     "output_type": "execute_result"
    }
   ],
   "source": [
    "train.columns"
   ]
  },
  {
   "cell_type": "code",
   "execution_count": 9,
   "id": "23aaa131",
   "metadata": {},
   "outputs": [],
   "source": [
    "# create a list of columns to be used as the ML model parameters \n",
    "X_cols = ['multiple_lines_no_phone_service', 'dependents',\n",
    "           'multiple_lines_yes', 'online_security_yes',\n",
    "           'online_backup_yes', 'device_protection_yes', \n",
    "           'tech_support_yes', 'contract_type_one_year',\n",
    "           'contract_type_two_year', 'internet_service_type_fiber_optic',\n",
    "           'internet_service_type_none', 'payment_type_credit_card_automatic',\n",
    "           'payment_type_electronic_check', 'payment_type_mailed_check']\n",
    "# create a variable for the column used as the prediction target of the ML models\n",
    "y_col = 'churn'"
   ]
  },
  {
   "cell_type": "code",
   "execution_count": 10,
   "id": "022530d0",
   "metadata": {},
   "outputs": [],
   "source": [
    "def model_prep(train, validate, test):\n",
    "    '''\n",
    "    This function will take in train, validate and test DataFrames and return \n",
    "    DataFrames that contain the columns to be used with the ML models.\n",
    "    '''\n",
    "    # create new dataframes with the desired columns\n",
    "    train_X = train[X_cols]\n",
    "    validate_X = validate[X_cols]\n",
    "    test_X = test[X_cols]\n",
    "    train_y = train[y_col]\n",
    "    validate_y = validate[y_col]\n",
    "    test_y = test[y_col]\n",
    "    # return the new dataframes\n",
    "    return train_X, validate_X, test_X, train_y, validate_y, test_y"
   ]
  },
  {
   "cell_type": "code",
   "execution_count": 11,
   "id": "7b5e62fb",
   "metadata": {},
   "outputs": [],
   "source": [
    "train_X, validate_X, test_X, train_y, validate_y, test_y = model_prep(train,validate,test)"
   ]
  },
  {
   "cell_type": "code",
   "execution_count": 12,
   "id": "e1cd27e4",
   "metadata": {},
   "outputs": [],
   "source": [
    "def get_decision_tree(train_X, validate_X, train_y, validate_y):\n",
    "    '''\n",
    "    This function will use a decision tree machine learning model to predict \n",
    "    customer churn using the columns chosen during the exploration process.\n",
    "    '''\n",
    "    # make the decision tree object\n",
    "    dt = DecisionTreeClassifier()\n",
    "    # fit the data to the dt object\n",
    "    dt.fit(train_X, train_y)\n",
    "    # predict with the dt object\n",
    "    dt_preds = dt.predict(train_X)\n",
    "    dt_val_preds = dt.predict(validate_X)\n",
    "    # \"Model Type\" \n",
    "    # \"evaluation metric\" on train: \"evaluation result\" \n",
    "    # \"evaluation metric\" on validate: \"evaluation result\"\n",
    "    print('Decision Tree Model')\n",
    "    print(f'Recall score on train: {recall_score(train_y, dt_preds):.2%}')\n",
    "    print(f'Recall score on validate: {recall_score(validate_y, dt_val_preds):.2%}')\n",
    "    # return the decision tree model for use in other functions\n",
    "    return dt"
   ]
  },
  {
   "cell_type": "code",
   "execution_count": 13,
   "id": "3c1a480f",
   "metadata": {},
   "outputs": [
    {
     "name": "stdout",
     "output_type": "stream",
     "text": [
      "Decision Tree Model\n",
      "Recall score on train: 65.97%\n",
      "Recall score on validate: 56.79%\n"
     ]
    }
   ],
   "source": [
    "dt = get_decision_tree(train_X, validate_X, train_y, validate_y)"
   ]
  },
  {
   "cell_type": "code",
   "execution_count": 14,
   "id": "9594dd99",
   "metadata": {},
   "outputs": [],
   "source": [
    "def get_random_forest(train_X, validate_X, train_y, validate_y):\n",
    "    '''\n",
    "    This function will use a random forest machine learning model to predict \n",
    "    customer churn using the columns chosen during the exploration process.\n",
    "    '''\n",
    "    # make the decision tree object\n",
    "    rf = RandomForestClassifier()\n",
    "    # fit the data to the rf object\n",
    "    rf.fit(train_X, train_y)\n",
    "    # predict with the rf object\n",
    "    rf_preds = rf.predict(train_X)\n",
    "    rf_val_preds = rf.predict(validate_X)\n",
    "    # \"Model Type\" \n",
    "    # \"evaluation metric\" on train: \"evaluation result\" \n",
    "    # \"evaluation metric\" on validate: \"evaluation result\"\n",
    "    print('Random Forest Model')\n",
    "    print(f'Recall score on train: {recall_score(train_y, rf_preds):.2%}')\n",
    "    print(f'Recall score on validate: {recall_score(validate_y, rf_val_preds):.2%}')\n",
    "    # return the random forest model for use in other functions\n",
    "    return rf"
   ]
  },
  {
   "cell_type": "code",
   "execution_count": 15,
   "id": "d0499109",
   "metadata": {},
   "outputs": [
    {
     "name": "stdout",
     "output_type": "stream",
     "text": [
      "Random Forest Model\n",
      "Recall score on train: 70.08%\n",
      "Recall score on validate: 57.24%\n"
     ]
    }
   ],
   "source": [
    "rf = get_random_forest(train_X, validate_X, train_y, validate_y)"
   ]
  },
  {
   "cell_type": "code",
   "execution_count": 16,
   "id": "0a1b3e3d",
   "metadata": {},
   "outputs": [],
   "source": [
    "def get_logistic_regression(train_X, validate_X, train_y, validate_y):\n",
    "    '''\n",
    "    This function will use a logistic regression machine learning model to predict \n",
    "    customer churn using the columns chosen during the exploration process.\n",
    "    '''\n",
    "    # make the decision tree object\n",
    "    lr = LogisticRegression()\n",
    "    # fit the data to the lr object\n",
    "    lr.fit(train_X, train_y)\n",
    "    # predict with the lr object\n",
    "    lr_preds = lr.predict(train_X)\n",
    "    lr_val_preds = lr.predict(validate_X)\n",
    "    # \"Model Type\" \n",
    "    # \"evaluation metric\" on train: \"evaluation result\" \n",
    "    # \"evaluation metric\" on validate: \"evaluation result\"\n",
    "    print('Logistic Regression Model')\n",
    "    print(f'Recall score on train: {recall_score(train_y, lr_preds):.2%}')\n",
    "    print(f'Recall score on validate: {recall_score(validate_y, lr_val_preds):.2%}')\n",
    "    # return the logistic regression model for use in other functions\n",
    "    return lr"
   ]
  },
  {
   "cell_type": "code",
   "execution_count": 17,
   "id": "b6b4e615",
   "metadata": {},
   "outputs": [
    {
     "name": "stdout",
     "output_type": "stream",
     "text": [
      "Logistic Regression Model\n",
      "Recall score on train: 51.05%\n",
      "Recall score on validate: 54.12%\n"
     ]
    }
   ],
   "source": [
    "lr = get_logistic_regression(train_X, validate_X, train_y, validate_y)"
   ]
  },
  {
   "cell_type": "code",
   "execution_count": 18,
   "id": "3d66b2e9",
   "metadata": {},
   "outputs": [],
   "source": [
    "def get_rf_test(test_X, test_y, rf):\n",
    "    '''\n",
    "    This function will take in a random forest model in order to predict customer\n",
    "    churn rate using the test data.\n",
    "    '''\n",
    "    # make a prediction using the test data and passed rf model\n",
    "    rf_test_preds = rf.predict(test_X)\n",
    "    # print the recall score for the test data\n",
    "    print('Random Forest Model')\n",
    "    print(f'Recall score on test: {recall_score(test_y, rf_test_preds):.2%}')"
   ]
  },
  {
   "cell_type": "code",
   "execution_count": 19,
   "id": "d47bf8dd",
   "metadata": {},
   "outputs": [
    {
     "name": "stdout",
     "output_type": "stream",
     "text": [
      "Random Forest Model\n",
      "Recall score on test: 55.61%\n"
     ]
    }
   ],
   "source": [
    "get_rf_test(test_X, test_y, rf)"
   ]
  },
  {
   "cell_type": "code",
   "execution_count": 23,
   "id": "70ee5fdc",
   "metadata": {},
   "outputs": [
    {
     "data": {
      "text/html": [
       "<div>\n",
       "<style scoped>\n",
       "    .dataframe tbody tr th:only-of-type {\n",
       "        vertical-align: middle;\n",
       "    }\n",
       "\n",
       "    .dataframe tbody tr th {\n",
       "        vertical-align: top;\n",
       "    }\n",
       "\n",
       "    .dataframe thead th {\n",
       "        text-align: right;\n",
       "    }\n",
       "</style>\n",
       "<table border=\"1\" class=\"dataframe\">\n",
       "  <thead>\n",
       "    <tr style=\"text-align: right;\">\n",
       "      <th></th>\n",
       "      <th>customer_id</th>\n",
       "      <th>prediction_of_churn</th>\n",
       "      <th>probability_of_churn</th>\n",
       "    </tr>\n",
       "  </thead>\n",
       "  <tbody>\n",
       "    <tr>\n",
       "      <th>0</th>\n",
       "      <td>2851-MMUTZ</td>\n",
       "      <td>0</td>\n",
       "      <td>0.292968</td>\n",
       "    </tr>\n",
       "    <tr>\n",
       "      <th>1</th>\n",
       "      <td>4257-GAESD</td>\n",
       "      <td>0</td>\n",
       "      <td>0.128659</td>\n",
       "    </tr>\n",
       "    <tr>\n",
       "      <th>2</th>\n",
       "      <td>2688-BHGOG</td>\n",
       "      <td>1</td>\n",
       "      <td>0.696733</td>\n",
       "    </tr>\n",
       "    <tr>\n",
       "      <th>3</th>\n",
       "      <td>7005-CYUIL</td>\n",
       "      <td>0</td>\n",
       "      <td>0.032667</td>\n",
       "    </tr>\n",
       "    <tr>\n",
       "      <th>4</th>\n",
       "      <td>2228-BZDEE</td>\n",
       "      <td>0</td>\n",
       "      <td>0.027736</td>\n",
       "    </tr>\n",
       "    <tr>\n",
       "      <th>...</th>\n",
       "      <td>...</td>\n",
       "      <td>...</td>\n",
       "      <td>...</td>\n",
       "    </tr>\n",
       "    <tr>\n",
       "      <th>1404</th>\n",
       "      <td>5480-TBGPH</td>\n",
       "      <td>0</td>\n",
       "      <td>0.285667</td>\n",
       "    </tr>\n",
       "    <tr>\n",
       "      <th>1405</th>\n",
       "      <td>1098-TDVUQ</td>\n",
       "      <td>0</td>\n",
       "      <td>0.296536</td>\n",
       "    </tr>\n",
       "    <tr>\n",
       "      <th>1406</th>\n",
       "      <td>2486-WYVVE</td>\n",
       "      <td>0</td>\n",
       "      <td>0.181667</td>\n",
       "    </tr>\n",
       "    <tr>\n",
       "      <th>1407</th>\n",
       "      <td>5076-YVXCM</td>\n",
       "      <td>1</td>\n",
       "      <td>0.613517</td>\n",
       "    </tr>\n",
       "    <tr>\n",
       "      <th>1408</th>\n",
       "      <td>0374-AACSZ</td>\n",
       "      <td>0</td>\n",
       "      <td>0.420030</td>\n",
       "    </tr>\n",
       "  </tbody>\n",
       "</table>\n",
       "<p>1409 rows × 3 columns</p>\n",
       "</div>"
      ],
      "text/plain": [
       "     customer_id  prediction_of_churn  probability_of_churn\n",
       "0     2851-MMUTZ                    0              0.292968\n",
       "1     4257-GAESD                    0              0.128659\n",
       "2     2688-BHGOG                    1              0.696733\n",
       "3     7005-CYUIL                    0              0.032667\n",
       "4     2228-BZDEE                    0              0.027736\n",
       "...          ...                  ...                   ...\n",
       "1404  5480-TBGPH                    0              0.285667\n",
       "1405  1098-TDVUQ                    0              0.296536\n",
       "1406  2486-WYVVE                    0              0.181667\n",
       "1407  5076-YVXCM                    1              0.613517\n",
       "1408  0374-AACSZ                    0              0.420030\n",
       "\n",
       "[1409 rows x 3 columns]"
      ]
     },
     "execution_count": 23,
     "metadata": {},
     "output_type": "execute_result"
    }
   ],
   "source": [
    "# create a df with predictions from the test data\n",
    "predictions = pd.concat([\n",
    "    # get the customer_ids, and reset the index to ordered 0-1408, dropping the old index\n",
    "    pd.DataFrame(test.customer_id).reset_index().drop(columns='index'),\n",
    "    # get the churn prediction from the final random forest ml model\n",
    "    pd.DataFrame(rf.predict(test_X)).rename(columns={0:'prediction_of_churn'}),\n",
    "    # get the churn probability predicitons from the final random forest model\n",
    "    pd.DataFrame(rf.predict_proba(\n",
    "        # drop the no_churn probalities since it is not needed\n",
    "        test_X)).drop(columns=0).rename(\n",
    "        # rename the column\n",
    "        columns={1:'probability_of_churn'})\n",
    "],axis=1)\n",
    "predictions"
   ]
  },
  {
   "cell_type": "code",
   "execution_count": 22,
   "id": "61730d8c",
   "metadata": {},
   "outputs": [],
   "source": [
    "# output the predictions to a csv file, commented so I don't repeatedly overwrite file\n",
    "# predictions.to_csv('predictions.csv')"
   ]
  }
 ],
 "metadata": {
  "kernelspec": {
   "display_name": "Python 3 (ipykernel)",
   "language": "python",
   "name": "python3"
  },
  "language_info": {
   "codemirror_mode": {
    "name": "ipython",
    "version": 3
   },
   "file_extension": ".py",
   "mimetype": "text/x-python",
   "name": "python",
   "nbconvert_exporter": "python",
   "pygments_lexer": "ipython3",
   "version": "3.9.13"
  }
 },
 "nbformat": 4,
 "nbformat_minor": 5
}
