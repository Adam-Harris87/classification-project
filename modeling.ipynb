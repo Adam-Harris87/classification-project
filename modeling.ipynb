{
 "cells": [
  {
   "cell_type": "code",
   "execution_count": 1,
   "id": "c2f7132c",
   "metadata": {},
   "outputs": [],
   "source": [
    "import numpy as np\n",
    "import pandas as pd\n",
    "\n",
    "from sklearn.tree import DecisionTreeClassifier, plot_tree\n",
    "from sklearn.metrics import classification_report, confusion_matrix, recall_score\n",
    "from sklearn.ensemble import RandomForestClassifier\n",
    "from sklearn.neighbors import KNeighborsClassifier\n",
    "from sklearn.linear_model import LogisticRegression\n",
    "\n",
    "from prepare import wrangle"
   ]
  },
  {
   "cell_type": "code",
   "execution_count": 22,
   "id": "51d5db8e",
   "metadata": {},
   "outputs": [
    {
     "name": "stdout",
     "output_type": "stream",
     "text": [
      "opening data from file\n"
     ]
    }
   ],
   "source": [
    "train, validate, test = wrangle()"
   ]
  },
  {
   "cell_type": "code",
   "execution_count": 23,
   "id": "59682dcd",
   "metadata": {},
   "outputs": [
    {
     "data": {
      "text/plain": [
       "0    2897\n",
       "1    1046\n",
       "Name: churn, dtype: int64"
      ]
     },
     "execution_count": 23,
     "metadata": {},
     "output_type": "execute_result"
    }
   ],
   "source": [
    "train.churn.value_counts()"
   ]
  },
  {
   "cell_type": "markdown",
   "id": "6970e9df",
   "metadata": {},
   "source": [
    "Our baseline prediction will be that a customer will not churn (churn = 0)"
   ]
  },
  {
   "cell_type": "code",
   "execution_count": 111,
   "id": "301c76fd",
   "metadata": {},
   "outputs": [],
   "source": [
    "baseline = [0] * len(train)"
   ]
  },
  {
   "cell_type": "code",
   "execution_count": 30,
   "id": "974ccf27",
   "metadata": {},
   "outputs": [
    {
     "data": {
      "text/plain": [
       "True"
      ]
     },
     "execution_count": 30,
     "metadata": {},
     "output_type": "execute_result"
    }
   ],
   "source": [
    "len(baseline) == len(train)"
   ]
  },
  {
   "cell_type": "code",
   "execution_count": 32,
   "id": "fc6e85a4",
   "metadata": {},
   "outputs": [
    {
     "name": "stdout",
     "output_type": "stream",
     "text": [
      "The baseline prediction score accuracy is: 73.47%\n"
     ]
    }
   ],
   "source": [
    "print(f'The baseline prediction score accuracy is: {(train.churn == baseline).mean():.2%}')"
   ]
  },
  {
   "cell_type": "code",
   "execution_count": 110,
   "id": "089f9953",
   "metadata": {},
   "outputs": [
    {
     "data": {
      "text/plain": [
       "0.0"
      ]
     },
     "execution_count": 110,
     "metadata": {},
     "output_type": "execute_result"
    }
   ],
   "source": [
    "recall_score(train[y_col], baseline)"
   ]
  },
  {
   "cell_type": "code",
   "execution_count": 6,
   "id": "dd52c2c0",
   "metadata": {},
   "outputs": [
    {
     "data": {
      "text/plain": [
       "Index(['customer_id', 'gender', 'senior_citizen', 'partner', 'dependents',\n",
       "       'tenure', 'phone_service', 'multiple_lines', 'online_security',\n",
       "       'online_backup', 'device_protection', 'tech_support', 'streaming_tv',\n",
       "       'streaming_movies', 'paperless_billing', 'monthly_charges',\n",
       "       'total_charges', 'churn', 'contract_type', 'internet_service_type',\n",
       "       'payment_type', 'gender_male', 'multiple_lines_no_phone_service',\n",
       "       'multiple_lines_yes', 'online_security_no_internet_service',\n",
       "       'online_security_yes', 'online_backup_no_internet_service',\n",
       "       'online_backup_yes', 'device_protection_no_internet_service',\n",
       "       'device_protection_yes', 'tech_support_no_internet_service',\n",
       "       'tech_support_yes', 'streaming_tv_no_internet_service',\n",
       "       'streaming_tv_yes', 'streaming_movies_no_internet_service',\n",
       "       'streaming_movies_yes', 'contract_type_one_year',\n",
       "       'contract_type_two_year', 'internet_service_type_fiber_optic',\n",
       "       'internet_service_type_none', 'payment_type_credit_card_automatic',\n",
       "       'payment_type_electronic_check', 'payment_type_mailed_check'],\n",
       "      dtype='object')"
      ]
     },
     "execution_count": 6,
     "metadata": {},
     "output_type": "execute_result"
    }
   ],
   "source": [
    "train.columns"
   ]
  },
  {
   "cell_type": "code",
   "execution_count": 7,
   "id": "acbaf886",
   "metadata": {},
   "outputs": [],
   "source": [
    "X_cols_a = ['gender_male', 'online_security_no_internet_service',\n",
    "       'online_security_yes', 'online_backup_no_internet_service',\n",
    "       'online_backup_yes', 'device_protection_no_internet_service',\n",
    "       'device_protection_yes', 'tech_support_no_internet_service',\n",
    "       'tech_support_yes']\n",
    "y_col = 'churn'"
   ]
  },
  {
   "cell_type": "code",
   "execution_count": 107,
   "id": "1a0fa560",
   "metadata": {},
   "outputs": [
    {
     "name": "stdout",
     "output_type": "stream",
     "text": [
      "              precision    recall  f1-score   support\n",
      "\n",
      "           0       0.80      0.89      0.84      2897\n",
      "           1       0.56      0.38      0.45      1046\n",
      "\n",
      "    accuracy                           0.76      3943\n",
      "   macro avg       0.68      0.64      0.65      3943\n",
      "weighted avg       0.74      0.76      0.74      3943\n",
      "\n",
      "\n",
      "[[2588  309]\n",
      " [ 650  396]]\n"
     ]
    }
   ],
   "source": [
    "# make the decision tree object\n",
    "dt_1 = DecisionTreeClassifier()\n",
    "# fit the data to the dt object\n",
    "dt_1.fit(train[X_cols_a], train[y_col])\n",
    "# predict with the dt object\n",
    "dt_1_preds = dt_1.predict(train[X_cols_a])\n",
    "\n",
    "print(classification_report(train[y_col], dt_1_preds))\n",
    "print()\n",
    "print(confusion_matrix(train[y_col], dt_1_preds))"
   ]
  },
  {
   "cell_type": "code",
   "execution_count": 106,
   "id": "27b70193",
   "metadata": {},
   "outputs": [
    {
     "name": "stdout",
     "output_type": "stream",
     "text": [
      "              precision    recall  f1-score   support\n",
      "\n",
      "           0       0.80      0.89      0.84      2897\n",
      "           1       0.56      0.38      0.45      1046\n",
      "\n",
      "    accuracy                           0.76      3943\n",
      "   macro avg       0.68      0.64      0.65      3943\n",
      "weighted avg       0.74      0.76      0.74      3943\n",
      "\n",
      "\n",
      "[[2588  309]\n",
      " [ 650  396]]\n"
     ]
    }
   ],
   "source": [
    "# create the random forest classifier object\n",
    "rf_1 = RandomForestClassifier()\n",
    "# fit the rf object\n",
    "rf_1.fit(train[X_cols_a], train[y_col])\n",
    "# predict with the rf object\n",
    "rf_1_preds = rf_1.predict(train[X_cols_a])\n",
    "\n",
    "print(classification_report(train[y_col], rf_1_preds))\n",
    "print()\n",
    "print(confusion_matrix(train[y_col], rf_1_preds))"
   ]
  },
  {
   "cell_type": "code",
   "execution_count": 104,
   "id": "279c15ac",
   "metadata": {},
   "outputs": [
    {
     "name": "stdout",
     "output_type": "stream",
     "text": [
      "              precision    recall  f1-score   support\n",
      "\n",
      "           0       0.76      0.90      0.82      2897\n",
      "           1       0.41      0.19      0.26      1046\n",
      "\n",
      "    accuracy                           0.71      3943\n",
      "   macro avg       0.58      0.55      0.54      3943\n",
      "weighted avg       0.66      0.71      0.67      3943\n",
      "\n",
      "\n",
      "[[2614  283]\n",
      " [ 846  200]]\n"
     ]
    },
    {
     "name": "stderr",
     "output_type": "stream",
     "text": [
      "/opt/anaconda3/lib/python3.9/site-packages/sklearn/neighbors/_classification.py:228: FutureWarning: Unlike other reduction functions (e.g. `skew`, `kurtosis`), the default behavior of `mode` typically preserves the axis it acts along. In SciPy 1.11.0, this behavior will change: the default value of `keepdims` will become False, the `axis` over which the statistic is taken will be eliminated, and the value None will no longer be accepted. Set `keepdims` to True or False to avoid this warning.\n",
      "  mode, _ = stats.mode(_y[neigh_ind, k], axis=1)\n"
     ]
    }
   ],
   "source": [
    "# create the K_Nearest_Neighbors object\n",
    "knn_1 = KNeighborsClassifier()\n",
    "# fit the KNN object\n",
    "knn_1.fit(train[X_cols_a], train[y_col])\n",
    "# predict with the knn object\n",
    "knn_1_preds = knn_1.predict(train[X_cols_a])\n",
    "\n",
    "print(classification_report(train[y_col], knn_1_preds))\n",
    "print()\n",
    "print(confusion_matrix(train[y_col], knn_1_preds))"
   ]
  },
  {
   "cell_type": "code",
   "execution_count": 105,
   "id": "113cd2c7",
   "metadata": {},
   "outputs": [
    {
     "name": "stdout",
     "output_type": "stream",
     "text": [
      "              precision    recall  f1-score   support\n",
      "\n",
      "           0       0.80      0.89      0.84      2897\n",
      "           1       0.56      0.38      0.45      1046\n",
      "\n",
      "    accuracy                           0.76      3943\n",
      "   macro avg       0.68      0.64      0.65      3943\n",
      "weighted avg       0.74      0.76      0.74      3943\n",
      "\n",
      "\n",
      "[[2588  309]\n",
      " [ 650  396]]\n"
     ]
    }
   ],
   "source": [
    "# create the logistic regression object\n",
    "lr_1 = LogisticRegression()\n",
    "# fit the lr object\n",
    "lr_1.fit(train[X_cols_a], train[y_col])\n",
    "# predict with the lr object\n",
    "lr_1_preds = lr_1.predict(train[X_cols_a])\n",
    "\n",
    "print(classification_report(train[y_col], lr_1_preds))\n",
    "print()\n",
    "print(confusion_matrix(train[y_col], lr_1_preds))"
   ]
  },
  {
   "cell_type": "code",
   "execution_count": 139,
   "id": "36f1d7fe",
   "metadata": {},
   "outputs": [],
   "source": [
    "train['security_and_backup'] = ((train.online_backup == 'Yes') \n",
    "                                   & (train.online_security == 'Yes'))\n",
    "validate['security_and_backup'] = ((validate.online_backup == 'Yes') \n",
    "                                   & (validate.online_security == 'Yes'))\n",
    "test['security_and_backup'] = ((test.online_backup == 'Yes') \n",
    "                                   & (test.online_security == 'Yes'))"
   ]
  },
  {
   "cell_type": "code",
   "execution_count": 140,
   "id": "2d0ea615",
   "metadata": {},
   "outputs": [],
   "source": [
    "train['protection_and_tech'] = ((train.device_protection_yes == 1) \n",
    "                        & train.tech_support_yes == 1)\n",
    "validate['protection_and_tech'] = ((validate.device_protection_yes == 1) \n",
    "                        & validate.tech_support_yes == 1)\n",
    "test['protection_and_tech'] = ((test.device_protection_yes == 1) \n",
    "                        & test.tech_support_yes == 1)"
   ]
  },
  {
   "cell_type": "code",
   "execution_count": 50,
   "id": "5004660b",
   "metadata": {},
   "outputs": [],
   "source": [
    "X_cols_b = ['gender_male', 'online_security_no_internet_service',\n",
    "       'online_security_yes', 'online_backup_no_internet_service',\n",
    "       'online_backup_yes', 'device_protection_no_internet_service',\n",
    "       'device_protection_yes', 'tech_support_no_internet_service',\n",
    "       'tech_support_yes', 'security_and_backup', 'protection_and_tech', \n",
    "       'internet_service_type_fiber_optic', 'internet_service_type_none']"
   ]
  },
  {
   "cell_type": "code",
   "execution_count": 51,
   "id": "63be7dbe",
   "metadata": {},
   "outputs": [],
   "source": [
    "# make the decision tree object\n",
    "dt_2 = DecisionTreeClassifier()\n",
    "# fit the data to the dt object\n",
    "dt_2.fit(train[X_cols_b], train[y_col])\n",
    "# predict with the dt object\n",
    "dt_2_preds = dt_2.predict(train[X_cols_b])"
   ]
  },
  {
   "cell_type": "code",
   "execution_count": 52,
   "id": "f51de060",
   "metadata": {},
   "outputs": [
    {
     "name": "stdout",
     "output_type": "stream",
     "text": [
      "              precision    recall  f1-score   support\n",
      "\n",
      "           0       0.80      0.93      0.86      2897\n",
      "           1       0.63      0.34      0.44      1046\n",
      "\n",
      "    accuracy                           0.77      3943\n",
      "   macro avg       0.71      0.63      0.65      3943\n",
      "weighted avg       0.75      0.77      0.75      3943\n",
      "\n",
      "\n",
      "[[2689  208]\n",
      " [ 690  356]]\n"
     ]
    }
   ],
   "source": [
    "print(classification_report(train[y_col], dt_2_preds))\n",
    "print()\n",
    "print(confusion_matrix(train[y_col], dt_2_preds))"
   ]
  },
  {
   "cell_type": "code",
   "execution_count": 53,
   "id": "12b0ac0f",
   "metadata": {},
   "outputs": [],
   "source": [
    "# create the random forest classifier object\n",
    "rf_2 = RandomForestClassifier()\n",
    "# fit the rf object\n",
    "rf_2.fit(train[X_cols_b], train[y_col])\n",
    "# predict with the rf object\n",
    "rf_2_preds = rf_2.predict(train[X_cols_b])"
   ]
  },
  {
   "cell_type": "code",
   "execution_count": 54,
   "id": "585e59e9",
   "metadata": {},
   "outputs": [
    {
     "name": "stdout",
     "output_type": "stream",
     "text": [
      "              precision    recall  f1-score   support\n",
      "\n",
      "           0       0.80      0.93      0.86      2897\n",
      "           1       0.63      0.34      0.44      1046\n",
      "\n",
      "    accuracy                           0.77      3943\n",
      "   macro avg       0.71      0.63      0.65      3943\n",
      "weighted avg       0.75      0.77      0.75      3943\n",
      "\n",
      "\n",
      "[[2689  208]\n",
      " [ 690  356]]\n"
     ]
    }
   ],
   "source": [
    "print(classification_report(train[y_col], rf_2_preds))\n",
    "print()\n",
    "print(confusion_matrix(train[y_col], rf_2_preds))"
   ]
  },
  {
   "cell_type": "code",
   "execution_count": 55,
   "id": "a9b11ce2",
   "metadata": {},
   "outputs": [
    {
     "name": "stderr",
     "output_type": "stream",
     "text": [
      "/opt/anaconda3/lib/python3.9/site-packages/sklearn/neighbors/_classification.py:228: FutureWarning: Unlike other reduction functions (e.g. `skew`, `kurtosis`), the default behavior of `mode` typically preserves the axis it acts along. In SciPy 1.11.0, this behavior will change: the default value of `keepdims` will become False, the `axis` over which the statistic is taken will be eliminated, and the value None will no longer be accepted. Set `keepdims` to True or False to avoid this warning.\n",
      "  mode, _ = stats.mode(_y[neigh_ind, k], axis=1)\n"
     ]
    }
   ],
   "source": [
    "# create the K_Nearest_Neighbors object\n",
    "knn_2 = KNeighborsClassifier()\n",
    "# fit the KNN object\n",
    "knn_2.fit(train[X_cols_b], train[y_col])\n",
    "# predict with the knn object\n",
    "knn_2_preds = knn_2.predict(train[X_cols_b])"
   ]
  },
  {
   "cell_type": "code",
   "execution_count": 56,
   "id": "b5af9eab",
   "metadata": {},
   "outputs": [
    {
     "name": "stdout",
     "output_type": "stream",
     "text": [
      "              precision    recall  f1-score   support\n",
      "\n",
      "           0       0.79      0.87      0.83      2897\n",
      "           1       0.49      0.36      0.42      1046\n",
      "\n",
      "    accuracy                           0.73      3943\n",
      "   macro avg       0.64      0.61      0.62      3943\n",
      "weighted avg       0.71      0.73      0.72      3943\n",
      "\n",
      "\n",
      "[[2514  383]\n",
      " [ 671  375]]\n"
     ]
    }
   ],
   "source": [
    "print(classification_report(train[y_col], knn_2_preds))\n",
    "print()\n",
    "print(confusion_matrix(train[y_col], knn_2_preds))"
   ]
  },
  {
   "cell_type": "code",
   "execution_count": 57,
   "id": "9a56f26f",
   "metadata": {},
   "outputs": [],
   "source": [
    "# create the logistic regression object\n",
    "lr_2 = LogisticRegression()\n",
    "# fit the lr object\n",
    "lr_2.fit(train[X_cols_b], train[y_col])\n",
    "# predict with the lr object\n",
    "lr_2_preds = lr_2.predict(train[X_cols_b])"
   ]
  },
  {
   "cell_type": "code",
   "execution_count": 58,
   "id": "fe7486d0",
   "metadata": {},
   "outputs": [
    {
     "name": "stdout",
     "output_type": "stream",
     "text": [
      "              precision    recall  f1-score   support\n",
      "\n",
      "           0       0.80      0.91      0.85      2897\n",
      "           1       0.61      0.38      0.47      1046\n",
      "\n",
      "    accuracy                           0.77      3943\n",
      "   macro avg       0.71      0.65      0.66      3943\n",
      "weighted avg       0.75      0.77      0.75      3943\n",
      "\n",
      "\n",
      "[[2646  251]\n",
      " [ 647  399]]\n"
     ]
    }
   ],
   "source": [
    "print(classification_report(train[y_col], lr_2_preds))\n",
    "print()\n",
    "print(confusion_matrix(train[y_col], lr_2_preds))"
   ]
  },
  {
   "cell_type": "code",
   "execution_count": 86,
   "id": "3f4fd507",
   "metadata": {},
   "outputs": [],
   "source": [
    "X_cols_c = ['gender_male', 'streaming_tv_no_internet_service',\n",
    "       'streaming_tv_yes', 'streaming_movies_no_internet_service',\n",
    "       'streaming_movies_yes', 'internet_service_type_fiber_optic',\n",
    "       'internet_service_type_none']"
   ]
  },
  {
   "cell_type": "code",
   "execution_count": 87,
   "id": "c0a57aa1",
   "metadata": {},
   "outputs": [],
   "source": [
    "# make the decision tree object\n",
    "dt_3 = DecisionTreeClassifier()\n",
    "# fit the data to the dt object\n",
    "dt_3.fit(train[X_cols_c], train[y_col])\n",
    "# predict with the dt object\n",
    "dt_3_preds = dt_3.predict(train[X_cols_c])"
   ]
  },
  {
   "cell_type": "code",
   "execution_count": 88,
   "id": "25e8cd1b",
   "metadata": {},
   "outputs": [
    {
     "name": "stdout",
     "output_type": "stream",
     "text": [
      "              precision    recall  f1-score   support\n",
      "\n",
      "           0       0.75      0.96      0.84      2897\n",
      "           1       0.51      0.12      0.20      1046\n",
      "\n",
      "    accuracy                           0.74      3943\n",
      "   macro avg       0.63      0.54      0.52      3943\n",
      "weighted avg       0.69      0.74      0.67      3943\n",
      "\n",
      "\n",
      "[[2772  125]\n",
      " [ 917  129]]\n"
     ]
    }
   ],
   "source": [
    "print(classification_report(train[y_col], dt_3_preds))\n",
    "print()\n",
    "print(confusion_matrix(train[y_col], dt_3_preds))"
   ]
  },
  {
   "cell_type": "code",
   "execution_count": 89,
   "id": "2df23d7f",
   "metadata": {},
   "outputs": [],
   "source": [
    "# create the random forest classifier object\n",
    "rf_3 = RandomForestClassifier()\n",
    "# fit the rf object\n",
    "rf_3.fit(train[X_cols_c], train[y_col])\n",
    "# predict with the rf object\n",
    "rf_3_preds = rf_3.predict(train[X_cols_c])"
   ]
  },
  {
   "cell_type": "code",
   "execution_count": 90,
   "id": "5675def0",
   "metadata": {},
   "outputs": [
    {
     "name": "stdout",
     "output_type": "stream",
     "text": [
      "              precision    recall  f1-score   support\n",
      "\n",
      "           0       0.75      0.96      0.84      2897\n",
      "           1       0.51      0.12      0.20      1046\n",
      "\n",
      "    accuracy                           0.74      3943\n",
      "   macro avg       0.63      0.54      0.52      3943\n",
      "weighted avg       0.69      0.74      0.67      3943\n",
      "\n",
      "\n",
      "[[2772  125]\n",
      " [ 917  129]]\n"
     ]
    }
   ],
   "source": [
    "print(classification_report(train[y_col], rf_3_preds))\n",
    "print()\n",
    "print(confusion_matrix(train[y_col], rf_3_preds))"
   ]
  },
  {
   "cell_type": "code",
   "execution_count": 91,
   "id": "25195c38",
   "metadata": {},
   "outputs": [
    {
     "name": "stderr",
     "output_type": "stream",
     "text": [
      "/opt/anaconda3/lib/python3.9/site-packages/sklearn/neighbors/_classification.py:228: FutureWarning: Unlike other reduction functions (e.g. `skew`, `kurtosis`), the default behavior of `mode` typically preserves the axis it acts along. In SciPy 1.11.0, this behavior will change: the default value of `keepdims` will become False, the `axis` over which the statistic is taken will be eliminated, and the value None will no longer be accepted. Set `keepdims` to True or False to avoid this warning.\n",
      "  mode, _ = stats.mode(_y[neigh_ind, k], axis=1)\n"
     ]
    }
   ],
   "source": [
    "# create the K_Nearest_Neighbors object\n",
    "knn_3 = KNeighborsClassifier()\n",
    "# fit the KNN object\n",
    "knn_3.fit(train[X_cols_c], train[y_col])\n",
    "# predict with the knn object\n",
    "knn_3_preds = knn_3.predict(train[X_cols_c])"
   ]
  },
  {
   "cell_type": "code",
   "execution_count": 92,
   "id": "1a33769e",
   "metadata": {},
   "outputs": [
    {
     "name": "stdout",
     "output_type": "stream",
     "text": [
      "              precision    recall  f1-score   support\n",
      "\n",
      "           0       0.77      0.88      0.82      2897\n",
      "           1       0.44      0.25      0.32      1046\n",
      "\n",
      "    accuracy                           0.72      3943\n",
      "   macro avg       0.60      0.57      0.57      3943\n",
      "weighted avg       0.68      0.72      0.69      3943\n",
      "\n",
      "\n",
      "[[2556  341]\n",
      " [ 782  264]]\n"
     ]
    }
   ],
   "source": [
    "print(classification_report(train[y_col], knn_3_preds))\n",
    "print()\n",
    "print(confusion_matrix(train[y_col], knn_3_preds))"
   ]
  },
  {
   "cell_type": "code",
   "execution_count": 93,
   "id": "fc1c421d",
   "metadata": {},
   "outputs": [],
   "source": [
    "# create the logistic regression object\n",
    "lr_3 = LogisticRegression()\n",
    "# fit the lr object\n",
    "lr_3.fit(train[X_cols_c], train[y_col])\n",
    "# predict with the lr object\n",
    "lr_3_preds = lr_3.predict(train[X_cols_c])"
   ]
  },
  {
   "cell_type": "code",
   "execution_count": 94,
   "id": "0babf064",
   "metadata": {},
   "outputs": [
    {
     "name": "stdout",
     "output_type": "stream",
     "text": [
      "              precision    recall  f1-score   support\n",
      "\n",
      "           0       0.77      0.91      0.83      2897\n",
      "           1       0.50      0.24      0.32      1046\n",
      "\n",
      "    accuracy                           0.73      3943\n",
      "   macro avg       0.63      0.58      0.58      3943\n",
      "weighted avg       0.70      0.73      0.70      3943\n",
      "\n",
      "\n",
      "[[2642  255]\n",
      " [ 796  250]]\n"
     ]
    }
   ],
   "source": [
    "print(classification_report(train[y_col], lr_3_preds))\n",
    "print()\n",
    "print(confusion_matrix(train[y_col], lr_3_preds))"
   ]
  },
  {
   "cell_type": "code",
   "execution_count": 95,
   "id": "733669d0",
   "metadata": {},
   "outputs": [],
   "source": [
    "X_cols_d = ['gender_male', 'multiple_lines_no_phone_service',\n",
    "       'multiple_lines_yes', 'online_security_no_internet_service',\n",
    "       'online_security_yes', 'online_backup_no_internet_service',\n",
    "       'online_backup_yes', 'device_protection_no_internet_service',\n",
    "       'device_protection_yes', 'tech_support_no_internet_service',\n",
    "       'tech_support_yes', 'streaming_tv_no_internet_service',\n",
    "       'streaming_tv_yes', 'streaming_movies_no_internet_service',\n",
    "       'streaming_movies_yes', 'contract_type_one_year',\n",
    "       'contract_type_two_year', 'internet_service_type_fiber_optic',\n",
    "       'internet_service_type_none', 'payment_type_credit_card_automatic',\n",
    "       'payment_type_electronic_check', 'payment_type_mailed_check']"
   ]
  },
  {
   "cell_type": "code",
   "execution_count": 96,
   "id": "879c61a9",
   "metadata": {},
   "outputs": [],
   "source": [
    "# make the decision tree object\n",
    "dt_4 = DecisionTreeClassifier()\n",
    "# fit the data to the dt object\n",
    "dt_4.fit(train[X_cols_d], train[y_col])\n",
    "# predict with the dt object\n",
    "dt_4_preds = dt_4.predict(train[X_cols_d])"
   ]
  },
  {
   "cell_type": "code",
   "execution_count": 97,
   "id": "ef9c1e3b",
   "metadata": {},
   "outputs": [
    {
     "name": "stdout",
     "output_type": "stream",
     "text": [
      "              precision    recall  f1-score   support\n",
      "\n",
      "           0       0.89      0.93      0.91      2897\n",
      "           1       0.77      0.70      0.73      1046\n",
      "\n",
      "    accuracy                           0.87      3943\n",
      "   macro avg       0.83      0.81      0.82      3943\n",
      "weighted avg       0.86      0.87      0.86      3943\n",
      "\n",
      "\n",
      "[[2682  215]\n",
      " [ 316  730]]\n"
     ]
    }
   ],
   "source": [
    "print(classification_report(train[y_col], dt_4_preds))\n",
    "print()\n",
    "print(confusion_matrix(train[y_col], dt_4_preds))"
   ]
  },
  {
   "cell_type": "code",
   "execution_count": 108,
   "id": "bb387c08",
   "metadata": {},
   "outputs": [
    {
     "name": "stdout",
     "output_type": "stream",
     "text": [
      "              precision    recall  f1-score   support\n",
      "\n",
      "           0       0.91      0.90      0.91      2897\n",
      "           1       0.74      0.76      0.75      1046\n",
      "\n",
      "    accuracy                           0.87      3943\n",
      "   macro avg       0.83      0.83      0.83      3943\n",
      "weighted avg       0.87      0.87      0.87      3943\n",
      "\n",
      "\n",
      "[[2617  280]\n",
      " [ 251  795]]\n"
     ]
    }
   ],
   "source": [
    "# create the random forest classifier object\n",
    "rf_4 = RandomForestClassifier()\n",
    "# fit the rf object\n",
    "rf_4.fit(train[X_cols_d], train[y_col])\n",
    "# predict with the rf object\n",
    "rf_4_preds = rf_4.predict(train[X_cols_d])\n",
    "\n",
    "print(classification_report(train[y_col], rf_4_preds))\n",
    "print()\n",
    "print(confusion_matrix(train[y_col], rf_4_preds))"
   ]
  },
  {
   "cell_type": "code",
   "execution_count": 100,
   "id": "5cfc62be",
   "metadata": {},
   "outputs": [
    {
     "name": "stderr",
     "output_type": "stream",
     "text": [
      "/opt/anaconda3/lib/python3.9/site-packages/sklearn/neighbors/_classification.py:228: FutureWarning: Unlike other reduction functions (e.g. `skew`, `kurtosis`), the default behavior of `mode` typically preserves the axis it acts along. In SciPy 1.11.0, this behavior will change: the default value of `keepdims` will become False, the `axis` over which the statistic is taken will be eliminated, and the value None will no longer be accepted. Set `keepdims` to True or False to avoid this warning.\n",
      "  mode, _ = stats.mode(_y[neigh_ind, k], axis=1)\n"
     ]
    }
   ],
   "source": [
    "# create the K_Nearest_Neighbors object\n",
    "knn_4 = KNeighborsClassifier()\n",
    "# fit the KNN object\n",
    "knn_4.fit(train[X_cols_d], train[y_col])\n",
    "# predict with the knn object\n",
    "knn_4_preds = knn_4.predict(train[X_cols_d])"
   ]
  },
  {
   "cell_type": "code",
   "execution_count": 101,
   "id": "842f3397",
   "metadata": {},
   "outputs": [
    {
     "name": "stdout",
     "output_type": "stream",
     "text": [
      "              precision    recall  f1-score   support\n",
      "\n",
      "           0       0.86      0.88      0.87      2897\n",
      "           1       0.64      0.59      0.61      1046\n",
      "\n",
      "    accuracy                           0.80      3943\n",
      "   macro avg       0.75      0.73      0.74      3943\n",
      "weighted avg       0.80      0.80      0.80      3943\n",
      "\n",
      "\n",
      "[[2554  343]\n",
      " [ 433  613]]\n"
     ]
    }
   ],
   "source": [
    "print(classification_report(train[y_col], knn_4_preds))\n",
    "print()\n",
    "print(confusion_matrix(train[y_col], knn_4_preds))"
   ]
  },
  {
   "cell_type": "code",
   "execution_count": 102,
   "id": "80c0f81b",
   "metadata": {},
   "outputs": [],
   "source": [
    "# create the logistic regression object\n",
    "lr_4 = LogisticRegression()\n",
    "# fit the lr object\n",
    "lr_4.fit(train[X_cols_d], train[y_col])\n",
    "# predict with the lr object\n",
    "lr_4_preds = lr_4.predict(train[X_cols_d])"
   ]
  },
  {
   "cell_type": "code",
   "execution_count": 103,
   "id": "7f85b215",
   "metadata": {},
   "outputs": [
    {
     "name": "stdout",
     "output_type": "stream",
     "text": [
      "              precision    recall  f1-score   support\n",
      "\n",
      "           0       0.84      0.88      0.86      2897\n",
      "           1       0.61      0.52      0.56      1046\n",
      "\n",
      "    accuracy                           0.78      3943\n",
      "   macro avg       0.72      0.70      0.71      3943\n",
      "weighted avg       0.77      0.78      0.78      3943\n",
      "\n",
      "\n",
      "[[2547  350]\n",
      " [ 503  543]]\n"
     ]
    }
   ],
   "source": [
    "print(classification_report(train[y_col], lr_4_preds))\n",
    "print()\n",
    "print(confusion_matrix(train[y_col], lr_4_preds))"
   ]
  },
  {
   "cell_type": "code",
   "execution_count": null,
   "id": "5079d280",
   "metadata": {},
   "outputs": [],
   "source": []
  },
  {
   "cell_type": "code",
   "execution_count": 109,
   "id": "b00eae97",
   "metadata": {},
   "outputs": [
    {
     "name": "stdout",
     "output_type": "stream",
     "text": [
      "              precision    recall  f1-score   support\n",
      "\n",
      "           0       0.83      0.84      0.83      1242\n",
      "           1       0.54      0.52      0.53       449\n",
      "\n",
      "    accuracy                           0.76      1691\n",
      "   macro avg       0.68      0.68      0.68      1691\n",
      "weighted avg       0.75      0.76      0.75      1691\n",
      "\n",
      "\n",
      "[[1043  199]\n",
      " [ 215  234]]\n"
     ]
    }
   ],
   "source": [
    "rf_4_preds_val = rf_4.predict(validate[X_cols_d])\n",
    "\n",
    "print(classification_report(validate[y_col], rf_4_preds_val))\n",
    "print()\n",
    "print(confusion_matrix(validate[y_col], rf_4_preds_val))"
   ]
  },
  {
   "cell_type": "code",
   "execution_count": 115,
   "id": "1994a078",
   "metadata": {},
   "outputs": [],
   "source": [
    "def create_classification_models(X_cols, y_col):\n",
    "    # make the decision tree object\n",
    "    dt = DecisionTreeClassifier()\n",
    "    # fit the data to the dt object\n",
    "    dt.fit(train[X_cols], train[y_col])\n",
    "    # predict with the dt object\n",
    "    dt_preds = dt.predict(train[X_cols])\n",
    "    dt_val_preds = dt.predict(validate[X_cols])\n",
    "    print('decision tree')\n",
    "    print(classification_report(train[y_col], dt_preds))\n",
    "    print()\n",
    "    print(confusion_matrix(train[y_col], dt_preds))\n",
    "    print('----------validation data----------')\n",
    "    print(classification_report(validate[y_col], dt_val_preds))\n",
    "    print()\n",
    "    print(confusion_matrix(validate[y_col], dt_val_preds))\n",
    "    print('\\n\\n')\n",
    "    \n",
    "    # create the random forest classifier object\n",
    "    rf = RandomForestClassifier()\n",
    "    # fit the rf object\n",
    "    rf.fit(train[X_cols], train[y_col])\n",
    "    # predict with the rf object\n",
    "    rf_preds = rf.predict(train[X_cols])\n",
    "    rf_val_preds = rf.predict(validate[X_cols])\n",
    "    print('random forest')\n",
    "    print(classification_report(train[y_col], rf_preds))\n",
    "    print()\n",
    "    print(confusion_matrix(train[y_col], rf_preds))\n",
    "    print('----------validation data----------')\n",
    "    print(classification_report(validate[y_col], rf_val_preds))\n",
    "    print()\n",
    "    print(confusion_matrix(validate[y_col], rf_val_preds))\n",
    "    print('\\n\\n')\n",
    "    \n",
    "    # create the K_Nearest_Neighbors object\n",
    "    knn = KNeighborsClassifier()\n",
    "    # fit the KNN object\n",
    "    knn.fit(train[X_cols], train[y_col])\n",
    "    # predict with the knn object\n",
    "    knn_preds = knn.predict(train[X_cols])\n",
    "    knn_val_preds = knn.predict(validate[X_cols])\n",
    "    print('k nearest neighbors')\n",
    "    print(classification_report(train[y_col], knn_preds))\n",
    "    print()\n",
    "    print(confusion_matrix(train[y_col], knn_preds))\n",
    "    print('----------validation data----------')\n",
    "    print(classification_report(validate[y_col], knn_val_preds))\n",
    "    print()\n",
    "    print(confusion_matrix(validate[y_col], knn_val_preds))\n",
    "    print('\\n\\n')\n",
    "    \n",
    "    # create the logistic regression object\n",
    "    lr = LogisticRegression()\n",
    "    # fit the lr object\n",
    "    lr.fit(train[X_cols], train[y_col])\n",
    "    # predict with the lr object\n",
    "    lr_preds = lr.predict(train[X_cols])\n",
    "    lr_val_preds = lr.predict(validate[X_cols])\n",
    "    print('logistic regression')\n",
    "    print(classification_report(train[y_col], lr_preds))\n",
    "    print()\n",
    "    print(confusion_matrix(train[y_col], lr_preds))\n",
    "    print('----------validation data----------')\n",
    "    print(classification_report(validate[y_col], lr_val_preds))\n",
    "    print()\n",
    "    print(confusion_matrix(validate[y_col], lr_val_preds))"
   ]
  },
  {
   "cell_type": "code",
   "execution_count": 116,
   "id": "761adbea",
   "metadata": {},
   "outputs": [
    {
     "name": "stdout",
     "output_type": "stream",
     "text": [
      "decision tree\n",
      "              precision    recall  f1-score   support\n",
      "\n",
      "           0       0.89      0.93      0.91      2897\n",
      "           1       0.77      0.70      0.73      1046\n",
      "\n",
      "    accuracy                           0.87      3943\n",
      "   macro avg       0.83      0.81      0.82      3943\n",
      "weighted avg       0.86      0.87      0.86      3943\n",
      "\n",
      "\n",
      "[[2682  215]\n",
      " [ 316  730]]\n",
      "----------validation data----------\n",
      "              precision    recall  f1-score   support\n",
      "\n",
      "           0       0.82      0.83      0.83      1242\n",
      "           1       0.52      0.50      0.51       449\n",
      "\n",
      "    accuracy                           0.74      1691\n",
      "   macro avg       0.67      0.67      0.67      1691\n",
      "weighted avg       0.74      0.74      0.74      1691\n",
      "\n",
      "\n",
      "[[1033  209]\n",
      " [ 225  224]]\n",
      "\n",
      "\n",
      "\n",
      "random forest\n",
      "              precision    recall  f1-score   support\n",
      "\n",
      "           0       0.91      0.90      0.91      2897\n",
      "           1       0.74      0.76      0.75      1046\n",
      "\n",
      "    accuracy                           0.87      3943\n",
      "   macro avg       0.83      0.83      0.83      3943\n",
      "weighted avg       0.87      0.87      0.87      3943\n",
      "\n",
      "\n",
      "[[2621  276]\n",
      " [ 255  791]]\n",
      "----------validation data----------\n",
      "              precision    recall  f1-score   support\n",
      "\n",
      "           0       0.83      0.84      0.83      1242\n",
      "           1       0.54      0.51      0.53       449\n",
      "\n",
      "    accuracy                           0.76      1691\n",
      "   macro avg       0.68      0.68      0.68      1691\n",
      "weighted avg       0.75      0.76      0.75      1691\n",
      "\n",
      "\n",
      "[[1046  196]\n",
      " [ 218  231]]\n",
      "\n",
      "\n",
      "\n"
     ]
    },
    {
     "name": "stderr",
     "output_type": "stream",
     "text": [
      "/opt/anaconda3/lib/python3.9/site-packages/sklearn/neighbors/_classification.py:228: FutureWarning: Unlike other reduction functions (e.g. `skew`, `kurtosis`), the default behavior of `mode` typically preserves the axis it acts along. In SciPy 1.11.0, this behavior will change: the default value of `keepdims` will become False, the `axis` over which the statistic is taken will be eliminated, and the value None will no longer be accepted. Set `keepdims` to True or False to avoid this warning.\n",
      "  mode, _ = stats.mode(_y[neigh_ind, k], axis=1)\n",
      "/opt/anaconda3/lib/python3.9/site-packages/sklearn/neighbors/_classification.py:228: FutureWarning: Unlike other reduction functions (e.g. `skew`, `kurtosis`), the default behavior of `mode` typically preserves the axis it acts along. In SciPy 1.11.0, this behavior will change: the default value of `keepdims` will become False, the `axis` over which the statistic is taken will be eliminated, and the value None will no longer be accepted. Set `keepdims` to True or False to avoid this warning.\n",
      "  mode, _ = stats.mode(_y[neigh_ind, k], axis=1)\n"
     ]
    },
    {
     "name": "stdout",
     "output_type": "stream",
     "text": [
      "k nearest neighbors\n",
      "              precision    recall  f1-score   support\n",
      "\n",
      "           0       0.86      0.88      0.87      2897\n",
      "           1       0.64      0.59      0.61      1046\n",
      "\n",
      "    accuracy                           0.80      3943\n",
      "   macro avg       0.75      0.73      0.74      3943\n",
      "weighted avg       0.80      0.80      0.80      3943\n",
      "\n",
      "\n",
      "[[2554  343]\n",
      " [ 433  613]]\n",
      "----------validation data----------\n",
      "              precision    recall  f1-score   support\n",
      "\n",
      "           0       0.82      0.84      0.83      1242\n",
      "           1       0.52      0.49      0.50       449\n",
      "\n",
      "    accuracy                           0.75      1691\n",
      "   macro avg       0.67      0.66      0.67      1691\n",
      "weighted avg       0.74      0.75      0.74      1691\n",
      "\n",
      "\n",
      "[[1041  201]\n",
      " [ 230  219]]\n",
      "\n",
      "\n",
      "\n",
      "logistic regression\n",
      "              precision    recall  f1-score   support\n",
      "\n",
      "           0       0.84      0.88      0.86      2897\n",
      "           1       0.61      0.52      0.56      1046\n",
      "\n",
      "    accuracy                           0.78      3943\n",
      "   macro avg       0.72      0.70      0.71      3943\n",
      "weighted avg       0.77      0.78      0.78      3943\n",
      "\n",
      "\n",
      "[[2547  350]\n",
      " [ 503  543]]\n",
      "----------validation data----------\n",
      "              precision    recall  f1-score   support\n",
      "\n",
      "           0       0.84      0.88      0.86      1242\n",
      "           1       0.62      0.55      0.58       449\n",
      "\n",
      "    accuracy                           0.79      1691\n",
      "   macro avg       0.73      0.71      0.72      1691\n",
      "weighted avg       0.78      0.79      0.79      1691\n",
      "\n",
      "\n",
      "[[1089  153]\n",
      " [ 201  248]]\n"
     ]
    }
   ],
   "source": [
    "create_classification_models(X_cols_d, y_col)"
   ]
  },
  {
   "cell_type": "code",
   "execution_count": 123,
   "id": "27be5b12",
   "metadata": {},
   "outputs": [],
   "source": [
    "X_cols_e = ['senior_citizen', 'partner', 'dependents',\n",
    "       'gender_male', 'multiple_lines_no_phone_service',\n",
    "       'multiple_lines_yes', 'online_security_yes', 'online_backup_yes',\n",
    "       'device_protection_yes', 'tech_support_yes', 'streaming_tv_yes',\n",
    "       'streaming_movies_yes', 'contract_type_one_year',\n",
    "       'contract_type_two_year', 'internet_service_type_fiber_optic',\n",
    "       'internet_service_type_none', 'payment_type_credit_card_automatic',\n",
    "       'payment_type_electronic_check', 'payment_type_mailed_check']"
   ]
  },
  {
   "cell_type": "code",
   "execution_count": 124,
   "id": "df70db52",
   "metadata": {
    "scrolled": true
   },
   "outputs": [
    {
     "name": "stdout",
     "output_type": "stream",
     "text": [
      "decision tree\n",
      "              precision    recall  f1-score   support\n",
      "\n",
      "           0       0.92      0.96      0.94      2897\n",
      "           1       0.89      0.78      0.83      1046\n",
      "\n",
      "    accuracy                           0.92      3943\n",
      "   macro avg       0.91      0.87      0.89      3943\n",
      "weighted avg       0.92      0.92      0.91      3943\n",
      "\n",
      "\n",
      "[[2795  102]\n",
      " [ 227  819]]\n",
      "----------validation data----------\n",
      "              precision    recall  f1-score   support\n",
      "\n",
      "           0       0.81      0.82      0.82      1242\n",
      "           1       0.49      0.46      0.47       449\n",
      "\n",
      "    accuracy                           0.73      1691\n",
      "   macro avg       0.65      0.64      0.65      1691\n",
      "weighted avg       0.72      0.73      0.73      1691\n",
      "\n",
      "\n",
      "[[1022  220]\n",
      " [ 241  208]]\n",
      "\n",
      "\n",
      "\n",
      "random forest\n",
      "              precision    recall  f1-score   support\n",
      "\n",
      "           0       0.94      0.95      0.94      2897\n",
      "           1       0.86      0.82      0.84      1046\n",
      "\n",
      "    accuracy                           0.92      3943\n",
      "   macro avg       0.90      0.89      0.89      3943\n",
      "weighted avg       0.92      0.92      0.92      3943\n",
      "\n",
      "\n",
      "[[2752  145]\n",
      " [ 184  862]]\n",
      "----------validation data----------\n",
      "              precision    recall  f1-score   support\n",
      "\n",
      "           0       0.82      0.87      0.84      1242\n",
      "           1       0.55      0.46      0.50       449\n",
      "\n",
      "    accuracy                           0.76      1691\n",
      "   macro avg       0.68      0.66      0.67      1691\n",
      "weighted avg       0.75      0.76      0.75      1691\n",
      "\n",
      "\n",
      "[[1075  167]\n",
      " [ 243  206]]\n",
      "\n",
      "\n",
      "\n"
     ]
    },
    {
     "name": "stderr",
     "output_type": "stream",
     "text": [
      "/opt/anaconda3/lib/python3.9/site-packages/sklearn/neighbors/_classification.py:228: FutureWarning: Unlike other reduction functions (e.g. `skew`, `kurtosis`), the default behavior of `mode` typically preserves the axis it acts along. In SciPy 1.11.0, this behavior will change: the default value of `keepdims` will become False, the `axis` over which the statistic is taken will be eliminated, and the value None will no longer be accepted. Set `keepdims` to True or False to avoid this warning.\n",
      "  mode, _ = stats.mode(_y[neigh_ind, k], axis=1)\n",
      "/opt/anaconda3/lib/python3.9/site-packages/sklearn/neighbors/_classification.py:228: FutureWarning: Unlike other reduction functions (e.g. `skew`, `kurtosis`), the default behavior of `mode` typically preserves the axis it acts along. In SciPy 1.11.0, this behavior will change: the default value of `keepdims` will become False, the `axis` over which the statistic is taken will be eliminated, and the value None will no longer be accepted. Set `keepdims` to True or False to avoid this warning.\n",
      "  mode, _ = stats.mode(_y[neigh_ind, k], axis=1)\n"
     ]
    },
    {
     "name": "stdout",
     "output_type": "stream",
     "text": [
      "k nearest neighbors\n",
      "              precision    recall  f1-score   support\n",
      "\n",
      "           0       0.86      0.90      0.88      2897\n",
      "           1       0.69      0.61      0.65      1046\n",
      "\n",
      "    accuracy                           0.83      3943\n",
      "   macro avg       0.78      0.76      0.77      3943\n",
      "weighted avg       0.82      0.83      0.82      3943\n",
      "\n",
      "\n",
      "[[2617  280]\n",
      " [ 409  637]]\n",
      "----------validation data----------\n",
      "              precision    recall  f1-score   support\n",
      "\n",
      "           0       0.81      0.83      0.82      1242\n",
      "           1       0.51      0.47      0.49       449\n",
      "\n",
      "    accuracy                           0.74      1691\n",
      "   macro avg       0.66      0.65      0.66      1691\n",
      "weighted avg       0.73      0.74      0.73      1691\n",
      "\n",
      "\n",
      "[[1036  206]\n",
      " [ 238  211]]\n",
      "\n",
      "\n",
      "\n",
      "logistic regression\n",
      "              precision    recall  f1-score   support\n",
      "\n",
      "           0       0.84      0.89      0.86      2897\n",
      "           1       0.62      0.52      0.57      1046\n",
      "\n",
      "    accuracy                           0.79      3943\n",
      "   macro avg       0.73      0.70      0.71      3943\n",
      "weighted avg       0.78      0.79      0.78      3943\n",
      "\n",
      "\n",
      "[[2566  331]\n",
      " [ 499  547]]\n",
      "----------validation data----------\n",
      "              precision    recall  f1-score   support\n",
      "\n",
      "           0       0.83      0.87      0.85      1242\n",
      "           1       0.60      0.52      0.56       449\n",
      "\n",
      "    accuracy                           0.78      1691\n",
      "   macro avg       0.72      0.70      0.71      1691\n",
      "weighted avg       0.77      0.78      0.77      1691\n",
      "\n",
      "\n",
      "[[1085  157]\n",
      " [ 215  234]]\n"
     ]
    }
   ],
   "source": [
    "create_classification_models(X_cols_e, y_col)"
   ]
  },
  {
   "cell_type": "code",
   "execution_count": 125,
   "id": "51600181",
   "metadata": {
    "scrolled": true
   },
   "outputs": [
    {
     "name": "stdout",
     "output_type": "stream",
     "text": [
      "decision tree\n",
      "              precision    recall  f1-score   support\n",
      "\n",
      "           0       0.89      0.93      0.91      2897\n",
      "           1       0.77      0.70      0.73      1046\n",
      "\n",
      "    accuracy                           0.87      3943\n",
      "   macro avg       0.83      0.81      0.82      3943\n",
      "weighted avg       0.86      0.87      0.86      3943\n",
      "\n",
      "\n",
      "[[2682  215]\n",
      " [ 316  730]]\n",
      "----------validation data----------\n",
      "              precision    recall  f1-score   support\n",
      "\n",
      "           0       0.82      0.83      0.82      1242\n",
      "           1       0.51      0.50      0.50       449\n",
      "\n",
      "    accuracy                           0.74      1691\n",
      "   macro avg       0.67      0.66      0.66      1691\n",
      "weighted avg       0.74      0.74      0.74      1691\n",
      "\n",
      "\n",
      "[[1027  215]\n",
      " [ 225  224]]\n",
      "\n",
      "\n",
      "\n",
      "random forest\n",
      "              precision    recall  f1-score   support\n",
      "\n",
      "           0       0.91      0.91      0.91      2897\n",
      "           1       0.75      0.75      0.75      1046\n",
      "\n",
      "    accuracy                           0.87      3943\n",
      "   macro avg       0.83      0.83      0.83      3943\n",
      "weighted avg       0.87      0.87      0.87      3943\n",
      "\n",
      "\n",
      "[[2630  267]\n",
      " [ 264  782]]\n",
      "----------validation data----------\n",
      "              precision    recall  f1-score   support\n",
      "\n",
      "           0       0.83      0.86      0.84      1242\n",
      "           1       0.57      0.52      0.55       449\n",
      "\n",
      "    accuracy                           0.77      1691\n",
      "   macro avg       0.70      0.69      0.69      1691\n",
      "weighted avg       0.76      0.77      0.76      1691\n",
      "\n",
      "\n",
      "[[1064  178]\n",
      " [ 214  235]]\n",
      "\n",
      "\n",
      "\n"
     ]
    },
    {
     "name": "stderr",
     "output_type": "stream",
     "text": [
      "/opt/anaconda3/lib/python3.9/site-packages/sklearn/neighbors/_classification.py:228: FutureWarning: Unlike other reduction functions (e.g. `skew`, `kurtosis`), the default behavior of `mode` typically preserves the axis it acts along. In SciPy 1.11.0, this behavior will change: the default value of `keepdims` will become False, the `axis` over which the statistic is taken will be eliminated, and the value None will no longer be accepted. Set `keepdims` to True or False to avoid this warning.\n",
      "  mode, _ = stats.mode(_y[neigh_ind, k], axis=1)\n",
      "/opt/anaconda3/lib/python3.9/site-packages/sklearn/neighbors/_classification.py:228: FutureWarning: Unlike other reduction functions (e.g. `skew`, `kurtosis`), the default behavior of `mode` typically preserves the axis it acts along. In SciPy 1.11.0, this behavior will change: the default value of `keepdims` will become False, the `axis` over which the statistic is taken will be eliminated, and the value None will no longer be accepted. Set `keepdims` to True or False to avoid this warning.\n",
      "  mode, _ = stats.mode(_y[neigh_ind, k], axis=1)\n"
     ]
    },
    {
     "name": "stdout",
     "output_type": "stream",
     "text": [
      "k nearest neighbors\n",
      "              precision    recall  f1-score   support\n",
      "\n",
      "           0       0.86      0.88      0.87      2897\n",
      "           1       0.64      0.59      0.61      1046\n",
      "\n",
      "    accuracy                           0.80      3943\n",
      "   macro avg       0.75      0.73      0.74      3943\n",
      "weighted avg       0.80      0.80      0.80      3943\n",
      "\n",
      "\n",
      "[[2554  343]\n",
      " [ 433  613]]\n",
      "----------validation data----------\n",
      "              precision    recall  f1-score   support\n",
      "\n",
      "           0       0.82      0.84      0.83      1242\n",
      "           1       0.52      0.49      0.50       449\n",
      "\n",
      "    accuracy                           0.75      1691\n",
      "   macro avg       0.67      0.66      0.67      1691\n",
      "weighted avg       0.74      0.75      0.74      1691\n",
      "\n",
      "\n",
      "[[1041  201]\n",
      " [ 230  219]]\n",
      "\n",
      "\n",
      "\n",
      "logistic regression\n",
      "              precision    recall  f1-score   support\n",
      "\n",
      "           0       0.84      0.88      0.86      2897\n",
      "           1       0.61      0.52      0.56      1046\n",
      "\n",
      "    accuracy                           0.78      3943\n",
      "   macro avg       0.72      0.70      0.71      3943\n",
      "weighted avg       0.77      0.78      0.78      3943\n",
      "\n",
      "\n",
      "[[2547  350]\n",
      " [ 503  543]]\n",
      "----------validation data----------\n",
      "              precision    recall  f1-score   support\n",
      "\n",
      "           0       0.84      0.88      0.86      1242\n",
      "           1       0.62      0.55      0.58       449\n",
      "\n",
      "    accuracy                           0.79      1691\n",
      "   macro avg       0.73      0.71      0.72      1691\n",
      "weighted avg       0.78      0.79      0.79      1691\n",
      "\n",
      "\n",
      "[[1089  153]\n",
      " [ 201  248]]\n"
     ]
    }
   ],
   "source": [
    "create_classification_models(X_cols_d, y_col)"
   ]
  },
  {
   "cell_type": "code",
   "execution_count": 145,
   "id": "0d5abf64",
   "metadata": {},
   "outputs": [],
   "source": [
    "X_cols_f = ['gender_male', 'multiple_lines_no_phone_service',\n",
    "            'senior_citizen', 'partner',\n",
    "       'multiple_lines_yes',\n",
    "       'online_security_yes',\n",
    "       'online_backup_yes',\n",
    "       'device_protection_yes',\n",
    "       'tech_support_yes',\n",
    "       'streaming_tv_yes',\n",
    "       'streaming_movies_yes', 'contract_type_one_year',\n",
    "       'contract_type_two_year', 'internet_service_type_fiber_optic',\n",
    "       'internet_service_type_none', 'payment_type_credit_card_automatic',\n",
    "       'payment_type_electronic_check', 'payment_type_mailed_check']"
   ]
  },
  {
   "cell_type": "code",
   "execution_count": 146,
   "id": "c8e9fff5",
   "metadata": {},
   "outputs": [
    {
     "name": "stdout",
     "output_type": "stream",
     "text": [
      "decision tree\n",
      "              precision    recall  f1-score   support\n",
      "\n",
      "           0       0.91      0.96      0.94      2897\n",
      "           1       0.88      0.74      0.81      1046\n",
      "\n",
      "    accuracy                           0.91      3943\n",
      "   macro avg       0.90      0.85      0.87      3943\n",
      "weighted avg       0.90      0.91      0.90      3943\n",
      "\n",
      "\n",
      "[[2794  103]\n",
      " [ 267  779]]\n",
      "----------validation data----------\n",
      "              precision    recall  f1-score   support\n",
      "\n",
      "           0       0.80      0.83      0.81      1242\n",
      "           1       0.47      0.41      0.44       449\n",
      "\n",
      "    accuracy                           0.72      1691\n",
      "   macro avg       0.63      0.62      0.63      1691\n",
      "weighted avg       0.71      0.72      0.71      1691\n",
      "\n",
      "\n",
      "[[1033  209]\n",
      " [ 263  186]]\n",
      "\n",
      "\n",
      "\n",
      "random forest\n",
      "              precision    recall  f1-score   support\n",
      "\n",
      "           0       0.93      0.94      0.94      2897\n",
      "           1       0.84      0.80      0.82      1046\n",
      "\n",
      "    accuracy                           0.91      3943\n",
      "   macro avg       0.88      0.87      0.88      3943\n",
      "weighted avg       0.91      0.91      0.91      3943\n",
      "\n",
      "\n",
      "[[2731  166]\n",
      " [ 204  842]]\n",
      "----------validation data----------\n",
      "              precision    recall  f1-score   support\n",
      "\n",
      "           0       0.81      0.86      0.83      1242\n",
      "           1       0.53      0.45      0.49       449\n",
      "\n",
      "    accuracy                           0.75      1691\n",
      "   macro avg       0.67      0.65      0.66      1691\n",
      "weighted avg       0.74      0.75      0.74      1691\n",
      "\n",
      "\n",
      "[[1063  179]\n",
      " [ 246  203]]\n",
      "\n",
      "\n",
      "\n"
     ]
    },
    {
     "name": "stderr",
     "output_type": "stream",
     "text": [
      "/opt/anaconda3/lib/python3.9/site-packages/sklearn/neighbors/_classification.py:228: FutureWarning: Unlike other reduction functions (e.g. `skew`, `kurtosis`), the default behavior of `mode` typically preserves the axis it acts along. In SciPy 1.11.0, this behavior will change: the default value of `keepdims` will become False, the `axis` over which the statistic is taken will be eliminated, and the value None will no longer be accepted. Set `keepdims` to True or False to avoid this warning.\n",
      "  mode, _ = stats.mode(_y[neigh_ind, k], axis=1)\n",
      "/opt/anaconda3/lib/python3.9/site-packages/sklearn/neighbors/_classification.py:228: FutureWarning: Unlike other reduction functions (e.g. `skew`, `kurtosis`), the default behavior of `mode` typically preserves the axis it acts along. In SciPy 1.11.0, this behavior will change: the default value of `keepdims` will become False, the `axis` over which the statistic is taken will be eliminated, and the value None will no longer be accepted. Set `keepdims` to True or False to avoid this warning.\n",
      "  mode, _ = stats.mode(_y[neigh_ind, k], axis=1)\n"
     ]
    },
    {
     "name": "stdout",
     "output_type": "stream",
     "text": [
      "k nearest neighbors\n",
      "              precision    recall  f1-score   support\n",
      "\n",
      "           0       0.86      0.89      0.88      2897\n",
      "           1       0.66      0.61      0.64      1046\n",
      "\n",
      "    accuracy                           0.81      3943\n",
      "   macro avg       0.76      0.75      0.76      3943\n",
      "weighted avg       0.81      0.81      0.81      3943\n",
      "\n",
      "\n",
      "[[2569  328]\n",
      " [ 405  641]]\n",
      "----------validation data----------\n",
      "              precision    recall  f1-score   support\n",
      "\n",
      "           0       0.81      0.83      0.82      1242\n",
      "           1       0.49      0.47      0.48       449\n",
      "\n",
      "    accuracy                           0.73      1691\n",
      "   macro avg       0.65      0.65      0.65      1691\n",
      "weighted avg       0.73      0.73      0.73      1691\n",
      "\n",
      "\n",
      "[[1027  215]\n",
      " [ 240  209]]\n",
      "\n",
      "\n",
      "\n",
      "logistic regression\n",
      "              precision    recall  f1-score   support\n",
      "\n",
      "           0       0.84      0.89      0.86      2897\n",
      "           1       0.62      0.52      0.57      1046\n",
      "\n",
      "    accuracy                           0.79      3943\n",
      "   macro avg       0.73      0.70      0.71      3943\n",
      "weighted avg       0.78      0.79      0.78      3943\n",
      "\n",
      "\n",
      "[[2569  328]\n",
      " [ 500  546]]\n",
      "----------validation data----------\n",
      "              precision    recall  f1-score   support\n",
      "\n",
      "           0       0.83      0.87      0.85      1242\n",
      "           1       0.59      0.51      0.55       449\n",
      "\n",
      "    accuracy                           0.78      1691\n",
      "   macro avg       0.71      0.69      0.70      1691\n",
      "weighted avg       0.77      0.78      0.77      1691\n",
      "\n",
      "\n",
      "[[1084  158]\n",
      " [ 219  230]]\n"
     ]
    }
   ],
   "source": [
    "create_classification_models(X_cols_f, y_col)"
   ]
  },
  {
   "cell_type": "code",
   "execution_count": 159,
   "id": "9f4d67a7",
   "metadata": {},
   "outputs": [],
   "source": [
    "X_cols_g = ['gender_male', 'multiple_lines_no_phone_service',\n",
    "       'multiple_lines_yes',\n",
    "       'online_security_yes',\n",
    "       'online_backup_yes',\n",
    "       'device_protection_yes', \n",
    "       'tech_support_yes',\n",
    "       'streaming_tv_yes',\n",
    "       'streaming_movies_yes', 'contract_type_one_year',\n",
    "       'contract_type_two_year', 'internet_service_type_fiber_optic',\n",
    "       'internet_service_type_none', 'payment_type_credit_card_automatic',\n",
    "       'payment_type_electronic_check', 'payment_type_mailed_check']"
   ]
  },
  {
   "cell_type": "code",
   "execution_count": 165,
   "id": "07b60cbf",
   "metadata": {},
   "outputs": [
    {
     "name": "stdout",
     "output_type": "stream",
     "text": [
      "decision tree\n",
      "              precision    recall  f1-score   support\n",
      "\n",
      "           0       0.89      0.93      0.91      2897\n",
      "           1       0.77      0.70      0.73      1046\n",
      "\n",
      "    accuracy                           0.87      3943\n",
      "   macro avg       0.83      0.81      0.82      3943\n",
      "weighted avg       0.86      0.87      0.86      3943\n",
      "\n",
      "\n",
      "[[2682  215]\n",
      " [ 316  730]]\n",
      "----------validation data----------\n",
      "              precision    recall  f1-score   support\n",
      "\n",
      "           0       0.82      0.83      0.83      1242\n",
      "           1       0.52      0.50      0.51       449\n",
      "\n",
      "    accuracy                           0.74      1691\n",
      "   macro avg       0.67      0.66      0.67      1691\n",
      "weighted avg       0.74      0.74      0.74      1691\n",
      "\n",
      "\n",
      "[[1033  209]\n",
      " [ 226  223]]\n",
      "\n",
      "\n",
      "\n",
      "random forest\n",
      "              precision    recall  f1-score   support\n",
      "\n",
      "           0       0.91      0.90      0.91      2897\n",
      "           1       0.74      0.76      0.75      1046\n",
      "\n",
      "    accuracy                           0.87      3943\n",
      "   macro avg       0.83      0.83      0.83      3943\n",
      "weighted avg       0.87      0.87      0.87      3943\n",
      "\n",
      "\n",
      "[[2619  278]\n",
      " [ 253  793]]\n",
      "----------validation data----------\n",
      "              precision    recall  f1-score   support\n",
      "\n",
      "           0       0.83      0.85      0.84      1242\n",
      "           1       0.56      0.53      0.54       449\n",
      "\n",
      "    accuracy                           0.76      1691\n",
      "   macro avg       0.70      0.69      0.69      1691\n",
      "weighted avg       0.76      0.76      0.76      1691\n",
      "\n",
      "\n",
      "[[1056  186]\n",
      " [ 212  237]]\n",
      "\n",
      "\n",
      "\n"
     ]
    },
    {
     "name": "stderr",
     "output_type": "stream",
     "text": [
      "/opt/anaconda3/lib/python3.9/site-packages/sklearn/neighbors/_classification.py:228: FutureWarning: Unlike other reduction functions (e.g. `skew`, `kurtosis`), the default behavior of `mode` typically preserves the axis it acts along. In SciPy 1.11.0, this behavior will change: the default value of `keepdims` will become False, the `axis` over which the statistic is taken will be eliminated, and the value None will no longer be accepted. Set `keepdims` to True or False to avoid this warning.\n",
      "  mode, _ = stats.mode(_y[neigh_ind, k], axis=1)\n",
      "/opt/anaconda3/lib/python3.9/site-packages/sklearn/neighbors/_classification.py:228: FutureWarning: Unlike other reduction functions (e.g. `skew`, `kurtosis`), the default behavior of `mode` typically preserves the axis it acts along. In SciPy 1.11.0, this behavior will change: the default value of `keepdims` will become False, the `axis` over which the statistic is taken will be eliminated, and the value None will no longer be accepted. Set `keepdims` to True or False to avoid this warning.\n",
      "  mode, _ = stats.mode(_y[neigh_ind, k], axis=1)\n"
     ]
    },
    {
     "name": "stdout",
     "output_type": "stream",
     "text": [
      "k nearest neighbors\n",
      "              precision    recall  f1-score   support\n",
      "\n",
      "           0       0.85      0.89      0.87      2897\n",
      "           1       0.65      0.55      0.60      1046\n",
      "\n",
      "    accuracy                           0.80      3943\n",
      "   macro avg       0.75      0.72      0.73      3943\n",
      "weighted avg       0.79      0.80      0.80      3943\n",
      "\n",
      "\n",
      "[[2581  316]\n",
      " [ 466  580]]\n",
      "----------validation data----------\n",
      "              precision    recall  f1-score   support\n",
      "\n",
      "           0       0.82      0.85      0.83      1242\n",
      "           1       0.53      0.49      0.51       449\n",
      "\n",
      "    accuracy                           0.75      1691\n",
      "   macro avg       0.68      0.67      0.67      1691\n",
      "weighted avg       0.74      0.75      0.75      1691\n",
      "\n",
      "\n",
      "[[1050  192]\n",
      " [ 230  219]]\n",
      "\n",
      "\n",
      "\n",
      "logistic regression\n",
      "              precision    recall  f1-score   support\n",
      "\n",
      "           0       0.84      0.88      0.86      2897\n",
      "           1       0.61      0.52      0.56      1046\n",
      "\n",
      "    accuracy                           0.78      3943\n",
      "   macro avg       0.72      0.70      0.71      3943\n",
      "weighted avg       0.77      0.78      0.78      3943\n",
      "\n",
      "\n",
      "[[2547  350]\n",
      " [ 503  543]]\n",
      "----------validation data----------\n",
      "              precision    recall  f1-score   support\n",
      "\n",
      "           0       0.84      0.88      0.86      1242\n",
      "           1       0.62      0.55      0.58       449\n",
      "\n",
      "    accuracy                           0.79      1691\n",
      "   macro avg       0.73      0.71      0.72      1691\n",
      "weighted avg       0.78      0.79      0.79      1691\n",
      "\n",
      "\n",
      "[[1089  153]\n",
      " [ 201  248]]\n"
     ]
    }
   ],
   "source": [
    "create_classification_models(X_cols_g, y_col)"
   ]
  },
  {
   "cell_type": "code",
   "execution_count": 160,
   "id": "8571668a",
   "metadata": {},
   "outputs": [
    {
     "name": "stdout",
     "output_type": "stream",
     "text": [
      "train recall score is: 37.86%\n",
      "val recall score is: 39.20%\n",
      "train recall score is: 38.15%\n",
      "val recall score is: 36.30%\n",
      "train recall score is: 23.90%\n",
      "val recall score is: 22.72%\n",
      "train recall score is: 51.91%\n",
      "val recall score is: 55.23%\n",
      "train recall score is: 52.29%\n",
      "val recall score is: 52.12%\n",
      "train recall score is: 52.20%\n",
      "val recall score is: 51.22%\n",
      "train recall score is: 51.91%\n",
      "val recall score is: 55.23%\n"
     ]
    }
   ],
   "source": [
    "X_list = [X_cols_a, X_cols_b, X_cols_c, X_cols_d, X_cols_e, X_cols_f, X_cols_g]\n",
    "for X in X_list:\n",
    "    lr = LogisticRegression()\n",
    "    lr.fit(train[X], train[y_col])\n",
    "    pred = lr.predict(train[X])\n",
    "    val_pred = lr.predict(validate[X])\n",
    "    print(f'train recall score is: {recall_score(train[y_col], pred):.2%}')\n",
    "    print(f'val recall score is: {recall_score(validate[y_col], val_pred):.2%}')"
   ]
  },
  {
   "cell_type": "code",
   "execution_count": 163,
   "id": "476fee94",
   "metadata": {},
   "outputs": [
    {
     "name": "stdout",
     "output_type": "stream",
     "text": [
      "test recall score is: 52.41%\n",
      "              precision    recall  f1-score   support\n",
      "\n",
      "           0       0.84      0.89      0.87      1035\n",
      "           1       0.64      0.52      0.58       374\n",
      "\n",
      "    accuracy                           0.80      1409\n",
      "   macro avg       0.74      0.71      0.72      1409\n",
      "weighted avg       0.79      0.80      0.79      1409\n",
      "\n"
     ]
    }
   ],
   "source": [
    "test_pred = lr.predict(test[X_cols_g])\n",
    "print(f'test recall score is: {recall_score(test[y_col], test_pred):.2%}')\n",
    "print(classification_report(test[y_col], test_pred))"
   ]
  }
 ],
 "metadata": {
  "kernelspec": {
   "display_name": "Python 3 (ipykernel)",
   "language": "python",
   "name": "python3"
  },
  "language_info": {
   "codemirror_mode": {
    "name": "ipython",
    "version": 3
   },
   "file_extension": ".py",
   "mimetype": "text/x-python",
   "name": "python",
   "nbconvert_exporter": "python",
   "pygments_lexer": "ipython3",
   "version": "3.9.13"
  }
 },
 "nbformat": 4,
 "nbformat_minor": 5
}
