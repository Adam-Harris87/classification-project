{
 "cells": [
  {
   "cell_type": "markdown",
   "id": "premier-milan",
   "metadata": {},
   "source": [
    "# Telco customer churn rates"
   ]
  },
  {
   "cell_type": "markdown",
   "id": "688dcced",
   "metadata": {},
   "source": [
    "## Goal:\n",
    "- Discover factors that lead to a customer canceling their telecommunication service contract\n",
    "- Predict if a customer will cancel their service contract (churn)"
   ]
  },
  {
   "cell_type": "markdown",
   "id": "going-assembly",
   "metadata": {},
   "source": [
    "## Imports"
   ]
  },
  {
   "cell_type": "code",
   "execution_count": 1,
   "id": "divided-poster",
   "metadata": {
    "scrolled": true
   },
   "outputs": [
    {
     "name": "stdout",
     "output_type": "stream",
     "text": [
      "opening data from file\n"
     ]
    }
   ],
   "source": [
    "# import libraries for working with arrays and DataFrames\n",
    "import numpy as np\n",
    "import pandas as pd\n",
    "# import data visualization libraries\n",
    "import matplotlib.pyplot as plt\n",
    "import seaborn as sns\n",
    "# import statistics tools\n",
    "from scipy import stats\n",
    "# import machine learning algorithms\n",
    "from sklearn.tree import DecisionTreeClassifier\n",
    "from sklearn.ensemble import RandomForestClassifier\n",
    "from sklearn.neighbors import KNeighborsClassifier\n",
    "from sklearn.linear_model import LogisticRegression\n",
    "# import machine learning metric tools\n",
    "from sklearn.metrics import classification_report, confusion_matrix, recall_score,\\\n",
    "accuracy_score\n",
    "# import functions for retrieving and cleaning telco dataset\n",
    "import prepare as p\n",
    "# import functions for exploration visualizations\n",
    "import explore as e\n",
    "# import functions for machine learning models\n",
    "import modeling as m"
   ]
  },
  {
   "cell_type": "markdown",
   "id": "criminal-glory",
   "metadata": {},
   "source": [
    "## Acquire\n",
    "\n",
    "* The dataset used in this project was acquired from the Codeup database\n",
    "* The dataset was downloaded via SQL connection, and cached into a local csv file\n",
    "* The original size of the dataset was 7043 rows and 24 columns\n",
    "* Each row represents one customer's contract with the telecom company\n",
    "* Each column represents one aspect of a customer's contract"
   ]
  },
  {
   "cell_type": "markdown",
   "id": "impossible-bible",
   "metadata": {},
   "source": [
    "## Prepare\n",
    "\n",
    "* We removed the 'payment_type_id', 'internet_service_type_id', 'contract_type_id' because they were redundant information\n",
    "* There were no missing or null values in the dataset.\n",
    "* The 'total_charges' column was converted from object data type to float type\n",
    "* Columns with yes/no values were converted to 1/0\n",
    "* Encoded categorical variables into dummies\n",
    "* Columns were then renamed to remove spaces and parenthesis\n",
    "* A column was created to identify customers without a subscription to either online security or online backup services\n",
    "* Data was split into train, validate and test groups (56%, 24%, 20%), stratifying on the 'churn' column"
   ]
  },
  {
   "cell_type": "code",
   "execution_count": 2,
   "id": "flexible-irrigation",
   "metadata": {},
   "outputs": [
    {
     "name": "stdout",
     "output_type": "stream",
     "text": [
      "opening data from file\n"
     ]
    }
   ],
   "source": [
    "# retrieve data from SQL server, and perform cleaning tasks\n",
    "df = p.wrangle()\n",
    "# split data for machine learning tasks\n",
    "train, validate, test = p.split_data(df)"
   ]
  },
  {
   "cell_type": "markdown",
   "id": "5db71d59",
   "metadata": {},
   "source": [
    "### A look at the data"
   ]
  },
  {
   "cell_type": "code",
   "execution_count": 3,
   "id": "fbf66685",
   "metadata": {},
   "outputs": [
    {
     "data": {
      "text/html": [
       "<div>\n",
       "<style scoped>\n",
       "    .dataframe tbody tr th:only-of-type {\n",
       "        vertical-align: middle;\n",
       "    }\n",
       "\n",
       "    .dataframe tbody tr th {\n",
       "        vertical-align: top;\n",
       "    }\n",
       "\n",
       "    .dataframe thead th {\n",
       "        text-align: right;\n",
       "    }\n",
       "</style>\n",
       "<table border=\"1\" class=\"dataframe\">\n",
       "  <thead>\n",
       "    <tr style=\"text-align: right;\">\n",
       "      <th></th>\n",
       "      <th>customer_id</th>\n",
       "      <th>gender</th>\n",
       "      <th>senior_citizen</th>\n",
       "      <th>partner</th>\n",
       "      <th>dependents</th>\n",
       "      <th>tenure</th>\n",
       "      <th>phone_service</th>\n",
       "      <th>multiple_lines</th>\n",
       "      <th>online_security</th>\n",
       "      <th>online_backup</th>\n",
       "      <th>...</th>\n",
       "      <th>streaming_movies_no_internet_service</th>\n",
       "      <th>streaming_movies_yes</th>\n",
       "      <th>contract_type_one_year</th>\n",
       "      <th>contract_type_two_year</th>\n",
       "      <th>internet_service_type_fiber_optic</th>\n",
       "      <th>internet_service_type_none</th>\n",
       "      <th>payment_type_credit_card_automatic</th>\n",
       "      <th>payment_type_electronic_check</th>\n",
       "      <th>payment_type_mailed_check</th>\n",
       "      <th>neither_security_or_backup</th>\n",
       "    </tr>\n",
       "  </thead>\n",
       "  <tbody>\n",
       "    <tr>\n",
       "      <th>1843</th>\n",
       "      <td>2676-ISHSF</td>\n",
       "      <td>Male</td>\n",
       "      <td>0</td>\n",
       "      <td>0</td>\n",
       "      <td>0</td>\n",
       "      <td>1</td>\n",
       "      <td>1</td>\n",
       "      <td>No</td>\n",
       "      <td>No internet service</td>\n",
       "      <td>No internet service</td>\n",
       "      <td>...</td>\n",
       "      <td>1</td>\n",
       "      <td>0</td>\n",
       "      <td>0</td>\n",
       "      <td>0</td>\n",
       "      <td>0</td>\n",
       "      <td>1</td>\n",
       "      <td>0</td>\n",
       "      <td>0</td>\n",
       "      <td>1</td>\n",
       "      <td>False</td>\n",
       "    </tr>\n",
       "    <tr>\n",
       "      <th>5717</th>\n",
       "      <td>8050-XGRVL</td>\n",
       "      <td>Female</td>\n",
       "      <td>0</td>\n",
       "      <td>1</td>\n",
       "      <td>1</td>\n",
       "      <td>62</td>\n",
       "      <td>1</td>\n",
       "      <td>No</td>\n",
       "      <td>Yes</td>\n",
       "      <td>No</td>\n",
       "      <td>...</td>\n",
       "      <td>0</td>\n",
       "      <td>0</td>\n",
       "      <td>1</td>\n",
       "      <td>0</td>\n",
       "      <td>0</td>\n",
       "      <td>0</td>\n",
       "      <td>1</td>\n",
       "      <td>0</td>\n",
       "      <td>0</td>\n",
       "      <td>False</td>\n",
       "    </tr>\n",
       "    <tr>\n",
       "      <th>1083</th>\n",
       "      <td>1576-PFZIW</td>\n",
       "      <td>Male</td>\n",
       "      <td>1</td>\n",
       "      <td>1</td>\n",
       "      <td>0</td>\n",
       "      <td>70</td>\n",
       "      <td>1</td>\n",
       "      <td>No</td>\n",
       "      <td>Yes</td>\n",
       "      <td>Yes</td>\n",
       "      <td>...</td>\n",
       "      <td>0</td>\n",
       "      <td>1</td>\n",
       "      <td>0</td>\n",
       "      <td>1</td>\n",
       "      <td>1</td>\n",
       "      <td>0</td>\n",
       "      <td>1</td>\n",
       "      <td>0</td>\n",
       "      <td>0</td>\n",
       "      <td>False</td>\n",
       "    </tr>\n",
       "    <tr>\n",
       "      <th>5210</th>\n",
       "      <td>7328-OWMOM</td>\n",
       "      <td>Female</td>\n",
       "      <td>0</td>\n",
       "      <td>0</td>\n",
       "      <td>1</td>\n",
       "      <td>31</td>\n",
       "      <td>1</td>\n",
       "      <td>No</td>\n",
       "      <td>No internet service</td>\n",
       "      <td>No internet service</td>\n",
       "      <td>...</td>\n",
       "      <td>1</td>\n",
       "      <td>0</td>\n",
       "      <td>1</td>\n",
       "      <td>0</td>\n",
       "      <td>0</td>\n",
       "      <td>1</td>\n",
       "      <td>1</td>\n",
       "      <td>0</td>\n",
       "      <td>0</td>\n",
       "      <td>False</td>\n",
       "    </tr>\n",
       "    <tr>\n",
       "      <th>2475</th>\n",
       "      <td>3541-ZNUHK</td>\n",
       "      <td>Female</td>\n",
       "      <td>0</td>\n",
       "      <td>1</td>\n",
       "      <td>1</td>\n",
       "      <td>55</td>\n",
       "      <td>1</td>\n",
       "      <td>Yes</td>\n",
       "      <td>Yes</td>\n",
       "      <td>Yes</td>\n",
       "      <td>...</td>\n",
       "      <td>0</td>\n",
       "      <td>0</td>\n",
       "      <td>0</td>\n",
       "      <td>0</td>\n",
       "      <td>1</td>\n",
       "      <td>0</td>\n",
       "      <td>0</td>\n",
       "      <td>1</td>\n",
       "      <td>0</td>\n",
       "      <td>False</td>\n",
       "    </tr>\n",
       "  </tbody>\n",
       "</table>\n",
       "<p>5 rows × 44 columns</p>\n",
       "</div>"
      ],
      "text/plain": [
       "     customer_id  gender  senior_citizen  partner  dependents  tenure  \\\n",
       "1843  2676-ISHSF    Male               0        0           0       1   \n",
       "5717  8050-XGRVL  Female               0        1           1      62   \n",
       "1083  1576-PFZIW    Male               1        1           0      70   \n",
       "5210  7328-OWMOM  Female               0        0           1      31   \n",
       "2475  3541-ZNUHK  Female               0        1           1      55   \n",
       "\n",
       "      phone_service multiple_lines      online_security        online_backup  \\\n",
       "1843              1             No  No internet service  No internet service   \n",
       "5717              1             No                  Yes                   No   \n",
       "1083              1             No                  Yes                  Yes   \n",
       "5210              1             No  No internet service  No internet service   \n",
       "2475              1            Yes                  Yes                  Yes   \n",
       "\n",
       "      ... streaming_movies_no_internet_service streaming_movies_yes  \\\n",
       "1843  ...                                    1                    0   \n",
       "5717  ...                                    0                    0   \n",
       "1083  ...                                    0                    1   \n",
       "5210  ...                                    1                    0   \n",
       "2475  ...                                    0                    0   \n",
       "\n",
       "     contract_type_one_year contract_type_two_year  \\\n",
       "1843                      0                      0   \n",
       "5717                      1                      0   \n",
       "1083                      0                      1   \n",
       "5210                      1                      0   \n",
       "2475                      0                      0   \n",
       "\n",
       "      internet_service_type_fiber_optic  internet_service_type_none  \\\n",
       "1843                                  0                           1   \n",
       "5717                                  0                           0   \n",
       "1083                                  1                           0   \n",
       "5210                                  0                           1   \n",
       "2475                                  1                           0   \n",
       "\n",
       "      payment_type_credit_card_automatic  payment_type_electronic_check  \\\n",
       "1843                                   0                              0   \n",
       "5717                                   1                              0   \n",
       "1083                                   1                              0   \n",
       "5210                                   1                              0   \n",
       "2475                                   0                              1   \n",
       "\n",
       "     payment_type_mailed_check neither_security_or_backup  \n",
       "1843                         1                      False  \n",
       "5717                         0                      False  \n",
       "1083                         0                      False  \n",
       "5210                         0                      False  \n",
       "2475                         0                      False  \n",
       "\n",
       "[5 rows x 44 columns]"
      ]
     },
     "execution_count": 3,
     "metadata": {},
     "output_type": "execute_result"
    }
   ],
   "source": [
    "train.head()"
   ]
  },
  {
   "cell_type": "markdown",
   "id": "c9d6c427",
   "metadata": {},
   "source": [
    "### A summary of the data"
   ]
  },
  {
   "cell_type": "code",
   "execution_count": 4,
   "id": "a71c9a6c",
   "metadata": {},
   "outputs": [
    {
     "data": {
      "text/html": [
       "<div>\n",
       "<style scoped>\n",
       "    .dataframe tbody tr th:only-of-type {\n",
       "        vertical-align: middle;\n",
       "    }\n",
       "\n",
       "    .dataframe tbody tr th {\n",
       "        vertical-align: top;\n",
       "    }\n",
       "\n",
       "    .dataframe thead th {\n",
       "        text-align: right;\n",
       "    }\n",
       "</style>\n",
       "<table border=\"1\" class=\"dataframe\">\n",
       "  <thead>\n",
       "    <tr style=\"text-align: right;\">\n",
       "      <th></th>\n",
       "      <th>senior_citizen</th>\n",
       "      <th>partner</th>\n",
       "      <th>dependents</th>\n",
       "      <th>tenure</th>\n",
       "      <th>phone_service</th>\n",
       "      <th>paperless_billing</th>\n",
       "      <th>monthly_charges</th>\n",
       "      <th>total_charges</th>\n",
       "      <th>churn</th>\n",
       "      <th>gender_male</th>\n",
       "      <th>...</th>\n",
       "      <th>streaming_tv_yes</th>\n",
       "      <th>streaming_movies_no_internet_service</th>\n",
       "      <th>streaming_movies_yes</th>\n",
       "      <th>contract_type_one_year</th>\n",
       "      <th>contract_type_two_year</th>\n",
       "      <th>internet_service_type_fiber_optic</th>\n",
       "      <th>internet_service_type_none</th>\n",
       "      <th>payment_type_credit_card_automatic</th>\n",
       "      <th>payment_type_electronic_check</th>\n",
       "      <th>payment_type_mailed_check</th>\n",
       "    </tr>\n",
       "  </thead>\n",
       "  <tbody>\n",
       "    <tr>\n",
       "      <th>count</th>\n",
       "      <td>3943.000000</td>\n",
       "      <td>3943.000000</td>\n",
       "      <td>3943.000000</td>\n",
       "      <td>3943.000000</td>\n",
       "      <td>3943.000000</td>\n",
       "      <td>3943.000000</td>\n",
       "      <td>3943.000000</td>\n",
       "      <td>3943.000000</td>\n",
       "      <td>3943.000000</td>\n",
       "      <td>3943.000000</td>\n",
       "      <td>...</td>\n",
       "      <td>3943.000000</td>\n",
       "      <td>3943.000000</td>\n",
       "      <td>3943.000000</td>\n",
       "      <td>3943.000000</td>\n",
       "      <td>3943.000000</td>\n",
       "      <td>3943.000000</td>\n",
       "      <td>3943.000000</td>\n",
       "      <td>3943.000000</td>\n",
       "      <td>3943.000000</td>\n",
       "      <td>3943.000000</td>\n",
       "    </tr>\n",
       "    <tr>\n",
       "      <th>mean</th>\n",
       "      <td>0.153436</td>\n",
       "      <td>0.491250</td>\n",
       "      <td>0.304844</td>\n",
       "      <td>32.515851</td>\n",
       "      <td>0.902612</td>\n",
       "      <td>0.590921</td>\n",
       "      <td>64.215191</td>\n",
       "      <td>2270.874068</td>\n",
       "      <td>0.265280</td>\n",
       "      <td>0.501902</td>\n",
       "      <td>...</td>\n",
       "      <td>0.381689</td>\n",
       "      <td>0.224195</td>\n",
       "      <td>0.381943</td>\n",
       "      <td>0.211007</td>\n",
       "      <td>0.242455</td>\n",
       "      <td>0.431905</td>\n",
       "      <td>0.224195</td>\n",
       "      <td>0.215318</td>\n",
       "      <td>0.337053</td>\n",
       "      <td>0.233071</td>\n",
       "    </tr>\n",
       "    <tr>\n",
       "      <th>std</th>\n",
       "      <td>0.360453</td>\n",
       "      <td>0.499987</td>\n",
       "      <td>0.460400</td>\n",
       "      <td>24.542484</td>\n",
       "      <td>0.296523</td>\n",
       "      <td>0.491726</td>\n",
       "      <td>30.196023</td>\n",
       "      <td>2258.592385</td>\n",
       "      <td>0.441538</td>\n",
       "      <td>0.500060</td>\n",
       "      <td>...</td>\n",
       "      <td>0.485863</td>\n",
       "      <td>0.417104</td>\n",
       "      <td>0.485924</td>\n",
       "      <td>0.408075</td>\n",
       "      <td>0.428622</td>\n",
       "      <td>0.495404</td>\n",
       "      <td>0.417104</td>\n",
       "      <td>0.411095</td>\n",
       "      <td>0.472763</td>\n",
       "      <td>0.422841</td>\n",
       "    </tr>\n",
       "    <tr>\n",
       "      <th>min</th>\n",
       "      <td>0.000000</td>\n",
       "      <td>0.000000</td>\n",
       "      <td>0.000000</td>\n",
       "      <td>0.000000</td>\n",
       "      <td>0.000000</td>\n",
       "      <td>0.000000</td>\n",
       "      <td>18.550000</td>\n",
       "      <td>0.000000</td>\n",
       "      <td>0.000000</td>\n",
       "      <td>0.000000</td>\n",
       "      <td>...</td>\n",
       "      <td>0.000000</td>\n",
       "      <td>0.000000</td>\n",
       "      <td>0.000000</td>\n",
       "      <td>0.000000</td>\n",
       "      <td>0.000000</td>\n",
       "      <td>0.000000</td>\n",
       "      <td>0.000000</td>\n",
       "      <td>0.000000</td>\n",
       "      <td>0.000000</td>\n",
       "      <td>0.000000</td>\n",
       "    </tr>\n",
       "    <tr>\n",
       "      <th>25%</th>\n",
       "      <td>0.000000</td>\n",
       "      <td>0.000000</td>\n",
       "      <td>0.000000</td>\n",
       "      <td>9.000000</td>\n",
       "      <td>1.000000</td>\n",
       "      <td>0.000000</td>\n",
       "      <td>34.000000</td>\n",
       "      <td>385.450000</td>\n",
       "      <td>0.000000</td>\n",
       "      <td>0.000000</td>\n",
       "      <td>...</td>\n",
       "      <td>0.000000</td>\n",
       "      <td>0.000000</td>\n",
       "      <td>0.000000</td>\n",
       "      <td>0.000000</td>\n",
       "      <td>0.000000</td>\n",
       "      <td>0.000000</td>\n",
       "      <td>0.000000</td>\n",
       "      <td>0.000000</td>\n",
       "      <td>0.000000</td>\n",
       "      <td>0.000000</td>\n",
       "    </tr>\n",
       "    <tr>\n",
       "      <th>50%</th>\n",
       "      <td>0.000000</td>\n",
       "      <td>0.000000</td>\n",
       "      <td>0.000000</td>\n",
       "      <td>29.000000</td>\n",
       "      <td>1.000000</td>\n",
       "      <td>1.000000</td>\n",
       "      <td>70.150000</td>\n",
       "      <td>1386.800000</td>\n",
       "      <td>0.000000</td>\n",
       "      <td>1.000000</td>\n",
       "      <td>...</td>\n",
       "      <td>0.000000</td>\n",
       "      <td>0.000000</td>\n",
       "      <td>0.000000</td>\n",
       "      <td>0.000000</td>\n",
       "      <td>0.000000</td>\n",
       "      <td>0.000000</td>\n",
       "      <td>0.000000</td>\n",
       "      <td>0.000000</td>\n",
       "      <td>0.000000</td>\n",
       "      <td>0.000000</td>\n",
       "    </tr>\n",
       "    <tr>\n",
       "      <th>75%</th>\n",
       "      <td>0.000000</td>\n",
       "      <td>1.000000</td>\n",
       "      <td>1.000000</td>\n",
       "      <td>55.000000</td>\n",
       "      <td>1.000000</td>\n",
       "      <td>1.000000</td>\n",
       "      <td>89.600000</td>\n",
       "      <td>3809.375000</td>\n",
       "      <td>1.000000</td>\n",
       "      <td>1.000000</td>\n",
       "      <td>...</td>\n",
       "      <td>1.000000</td>\n",
       "      <td>0.000000</td>\n",
       "      <td>1.000000</td>\n",
       "      <td>0.000000</td>\n",
       "      <td>0.000000</td>\n",
       "      <td>1.000000</td>\n",
       "      <td>0.000000</td>\n",
       "      <td>0.000000</td>\n",
       "      <td>1.000000</td>\n",
       "      <td>0.000000</td>\n",
       "    </tr>\n",
       "    <tr>\n",
       "      <th>max</th>\n",
       "      <td>1.000000</td>\n",
       "      <td>1.000000</td>\n",
       "      <td>1.000000</td>\n",
       "      <td>72.000000</td>\n",
       "      <td>1.000000</td>\n",
       "      <td>1.000000</td>\n",
       "      <td>118.750000</td>\n",
       "      <td>8672.450000</td>\n",
       "      <td>1.000000</td>\n",
       "      <td>1.000000</td>\n",
       "      <td>...</td>\n",
       "      <td>1.000000</td>\n",
       "      <td>1.000000</td>\n",
       "      <td>1.000000</td>\n",
       "      <td>1.000000</td>\n",
       "      <td>1.000000</td>\n",
       "      <td>1.000000</td>\n",
       "      <td>1.000000</td>\n",
       "      <td>1.000000</td>\n",
       "      <td>1.000000</td>\n",
       "      <td>1.000000</td>\n",
       "    </tr>\n",
       "  </tbody>\n",
       "</table>\n",
       "<p>8 rows × 31 columns</p>\n",
       "</div>"
      ],
      "text/plain": [
       "       senior_citizen      partner   dependents       tenure  phone_service  \\\n",
       "count     3943.000000  3943.000000  3943.000000  3943.000000    3943.000000   \n",
       "mean         0.153436     0.491250     0.304844    32.515851       0.902612   \n",
       "std          0.360453     0.499987     0.460400    24.542484       0.296523   \n",
       "min          0.000000     0.000000     0.000000     0.000000       0.000000   \n",
       "25%          0.000000     0.000000     0.000000     9.000000       1.000000   \n",
       "50%          0.000000     0.000000     0.000000    29.000000       1.000000   \n",
       "75%          0.000000     1.000000     1.000000    55.000000       1.000000   \n",
       "max          1.000000     1.000000     1.000000    72.000000       1.000000   \n",
       "\n",
       "       paperless_billing  monthly_charges  total_charges        churn  \\\n",
       "count        3943.000000      3943.000000    3943.000000  3943.000000   \n",
       "mean            0.590921        64.215191    2270.874068     0.265280   \n",
       "std             0.491726        30.196023    2258.592385     0.441538   \n",
       "min             0.000000        18.550000       0.000000     0.000000   \n",
       "25%             0.000000        34.000000     385.450000     0.000000   \n",
       "50%             1.000000        70.150000    1386.800000     0.000000   \n",
       "75%             1.000000        89.600000    3809.375000     1.000000   \n",
       "max             1.000000       118.750000    8672.450000     1.000000   \n",
       "\n",
       "       gender_male  ...  streaming_tv_yes  \\\n",
       "count  3943.000000  ...       3943.000000   \n",
       "mean      0.501902  ...          0.381689   \n",
       "std       0.500060  ...          0.485863   \n",
       "min       0.000000  ...          0.000000   \n",
       "25%       0.000000  ...          0.000000   \n",
       "50%       1.000000  ...          0.000000   \n",
       "75%       1.000000  ...          1.000000   \n",
       "max       1.000000  ...          1.000000   \n",
       "\n",
       "       streaming_movies_no_internet_service  streaming_movies_yes  \\\n",
       "count                           3943.000000           3943.000000   \n",
       "mean                               0.224195              0.381943   \n",
       "std                                0.417104              0.485924   \n",
       "min                                0.000000              0.000000   \n",
       "25%                                0.000000              0.000000   \n",
       "50%                                0.000000              0.000000   \n",
       "75%                                0.000000              1.000000   \n",
       "max                                1.000000              1.000000   \n",
       "\n",
       "       contract_type_one_year  contract_type_two_year  \\\n",
       "count             3943.000000             3943.000000   \n",
       "mean                 0.211007                0.242455   \n",
       "std                  0.408075                0.428622   \n",
       "min                  0.000000                0.000000   \n",
       "25%                  0.000000                0.000000   \n",
       "50%                  0.000000                0.000000   \n",
       "75%                  0.000000                0.000000   \n",
       "max                  1.000000                1.000000   \n",
       "\n",
       "       internet_service_type_fiber_optic  internet_service_type_none  \\\n",
       "count                        3943.000000                 3943.000000   \n",
       "mean                            0.431905                    0.224195   \n",
       "std                             0.495404                    0.417104   \n",
       "min                             0.000000                    0.000000   \n",
       "25%                             0.000000                    0.000000   \n",
       "50%                             0.000000                    0.000000   \n",
       "75%                             1.000000                    0.000000   \n",
       "max                             1.000000                    1.000000   \n",
       "\n",
       "       payment_type_credit_card_automatic  payment_type_electronic_check  \\\n",
       "count                         3943.000000                    3943.000000   \n",
       "mean                             0.215318                       0.337053   \n",
       "std                              0.411095                       0.472763   \n",
       "min                              0.000000                       0.000000   \n",
       "25%                              0.000000                       0.000000   \n",
       "50%                              0.000000                       0.000000   \n",
       "75%                              0.000000                       1.000000   \n",
       "max                              1.000000                       1.000000   \n",
       "\n",
       "       payment_type_mailed_check  \n",
       "count                3943.000000  \n",
       "mean                    0.233071  \n",
       "std                     0.422841  \n",
       "min                     0.000000  \n",
       "25%                     0.000000  \n",
       "50%                     0.000000  \n",
       "75%                     0.000000  \n",
       "max                     1.000000  \n",
       "\n",
       "[8 rows x 31 columns]"
      ]
     },
     "execution_count": 4,
     "metadata": {},
     "output_type": "execute_result"
    }
   ],
   "source": [
    "train.describe()"
   ]
  },
  {
   "cell_type": "markdown",
   "id": "bdc3092f",
   "metadata": {},
   "source": [
    "# Exploration"
   ]
  },
  {
   "cell_type": "markdown",
   "id": "9c2d8e6d",
   "metadata": {},
   "source": [
    "### 1. What percentage of customers will churn?"
   ]
  },
  {
   "cell_type": "code",
   "execution_count": 5,
   "id": "approximate-thong",
   "metadata": {},
   "outputs": [
    {
     "data": {
      "image/png": "[encoded data removed]",
      "text/plain": [
       "<Figure size 640x480 with 1 Axes>"
      ]
     },
     "metadata": {},
     "output_type": "display_data"
    }
   ],
   "source": [
    "# get pie chart showing the total customer churn rate\n",
    "e.get_pie_total()"
   ]
  },
  {
   "cell_type": "markdown",
   "id": "31c2b429",
   "metadata": {},
   "source": [
    "- About 1/4 of customers (26.5%) will cancel their service contract (churn)."
   ]
  },
  {
   "cell_type": "markdown",
   "id": "4735aa6e",
   "metadata": {},
   "source": [
    "## 2. Do customers with one service type have a higher churn rate than customers who are subscribed to both phone and internet services?"
   ]
  },
  {
   "cell_type": "code",
   "execution_count": 6,
   "id": "8a7fec12",
   "metadata": {},
   "outputs": [
    {
     "data": {
      "image/png": "[encoded data removed]",
      "text/plain": [
       "<Figure size 640x480 with 1 Axes>"
      ]
     },
     "metadata": {},
     "output_type": "display_data"
    }
   ],
   "source": [
    "# retrieve a bar graph showing the churn rates of customers with one service\n",
    "# type and customers with both service types\n",
    "e.get_bar_phone_and_internet()"
   ]
  },
  {
   "cell_type": "markdown",
   "id": "dc040c0d",
   "metadata": {},
   "source": [
    "- Customers who have both phone and internet services churn at a rate around 20% higher than customers who have only one service type."
   ]
  },
  {
   "cell_type": "markdown",
   "id": "887ecd0d",
   "metadata": {},
   "source": [
    "## 3. Do customers with neither online security or online backup services have a higher churn rate than customers with at least one service?"
   ]
  },
  {
   "cell_type": "code",
   "execution_count": 7,
   "id": "2d74c45a",
   "metadata": {
    "scrolled": false
   },
   "outputs": [
    {
     "data": {
      "image/png": "[encoded data removed]",
      "text/plain": [
       "<Figure size 640x480 with 1 Axes>"
      ]
     },
     "metadata": {},
     "output_type": "display_data"
    }
   ],
   "source": [
    "# retrieve a bar plot showing the churn rate of customers who do not have online security\n",
    "# or online backup services, and customers who have at least one service\n",
    "e.get_bar_security_or_backup()"
   ]
  },
  {
   "cell_type": "markdown",
   "id": "c5c8e6ba",
   "metadata": {},
   "source": [
    "### We will now verify the statistical significance of these results\n",
    "\n",
    "- We will use a 95% confidence interval\n",
    "- The resulting $\\alpha$ value is: 0.05 \n",
    "- We will use a 1-tailed, 2-sample t-test\n",
    "\n",
    "#### H$_0$ : Customers without online security or online backup have a churn rate <= average churn rate of customers with at least one service\n",
    "\n",
    "#### H$_a$ : Customers without online security or online backup have a churn rate > average churn rate of customers with at least one service\n",
    "\n",
    "- Since we are looking at a 1-tailed t-test we will be looking for p / 2 < $\\alpha$ and a t-stat that is > 0"
   ]
  },
  {
   "cell_type": "code",
   "execution_count": 8,
   "id": "522e1999",
   "metadata": {},
   "outputs": [
    {
     "name": "stdout",
     "output_type": "stream",
     "text": [
      "T_stat is greater than 0: True, T_stat = 14.8396\n",
      "p-value / 2 is less than alpha: True, p-value / 2 = 6.67359e-48\n"
     ]
    }
   ],
   "source": [
    "# retrieve results of a 1-tailed, 2-sample t-test\n",
    "e.get_ttest_neither_security_or_backup()"
   ]
  },
  {
   "cell_type": "markdown",
   "id": "b5022f6e",
   "metadata": {},
   "source": [
    "The p-value is less then our assigned alpha and the t_stat is greater than 0. Therefore we have evidence that customers who are not subscribed to either online security or online backup services have a higher churn rate than customers who are subscribed to at least one service. Based on the 21% difference in means, I believe that using the online security and online backup services fields durring modeling will have a moderate imporovement on the model's scores."
   ]
  },
  {
   "cell_type": "markdown",
   "id": "c10cfcb2",
   "metadata": {},
   "source": [
    "## 4. Do customers with tech support service have a lower churn rate than customers on average?"
   ]
  },
  {
   "cell_type": "code",
   "execution_count": 9,
   "id": "0cfc2319",
   "metadata": {},
   "outputs": [
    {
     "data": {
      "image/png": "[encoded data removed]",
      "text/plain": [
       "<Figure size 640x480 with 1 Axes>"
      ]
     },
     "metadata": {},
     "output_type": "display_data"
    }
   ],
   "source": [
    "# retrieve a bar graph showing the difference in churn rate for customers who \n",
    "# are subscribed to tech support and customers who are not\n",
    "e.get_bar_tech_support()"
   ]
  },
  {
   "cell_type": "markdown",
   "id": "535b7ede",
   "metadata": {},
   "source": [
    "### We will now verify the statistical significance of these results\n",
    "- We will use a 95% confidence interval\n",
    "- The resulting 𝛼 value is: 0.05\n",
    "- This will be a 1-tailed 1-sample t-test\n",
    "\n",
    "#### H$_0$ : Customers with tech support have a churn rate >= average churn rate of all customers \n",
    "\n",
    "#### H$_a$ : Customers with tech support have a churn rate < average churn rate of all customers \n",
    "\n",
    "- Since we are looking at a 1-tailed t-test we will be looking for p / 2 < $\\alpha$ and a t-stat that is < 0"
   ]
  },
  {
   "cell_type": "code",
   "execution_count": 10,
   "id": "5f7a5c24",
   "metadata": {},
   "outputs": [
    {
     "name": "stdout",
     "output_type": "stream",
     "text": [
      "T_stat is less than 0: True, T_stat = -8.83338\n",
      "p-value / 2 is less than alpha: True, p-value / 2 = 1.02531e-18\n"
     ]
    }
   ],
   "source": [
    "# retrieve the 1-tailed 1-sample t-test results\n",
    "e.get_ttest_tech_support()"
   ]
  },
  {
   "cell_type": "markdown",
   "id": "b375e376",
   "metadata": {},
   "source": [
    "The p-value is less then our assigned alpha and the t_stat is less than 0. Therefore we have evidence that customers who are subscribed to tech support service have a lower churn rate than customers on average. Based on the 11% difference in means, I believe that using the tech support field durring modeling will have an imporovement on the model's scores."
   ]
  },
  {
   "cell_type": "markdown",
   "id": "9f014efb",
   "metadata": {},
   "source": [
    "## 5. Do customers with dependents have a lower churn rate than customers without dependents?"
   ]
  },
  {
   "cell_type": "code",
   "execution_count": 11,
   "id": "d88bc378",
   "metadata": {},
   "outputs": [
    {
     "data": {
      "image/png": "[encoded data removed]",
      "text/plain": [
       "<Figure size 640x480 with 1 Axes>"
      ]
     },
     "metadata": {},
     "output_type": "display_data"
    }
   ],
   "source": [
    "# retrieve a bar graph showing the difference in churn rate of customers\n",
    "# who have dependents and customers without dependents\n",
    "e.get_bar_dependents()"
   ]
  },
  {
   "cell_type": "markdown",
   "id": "69c19d13",
   "metadata": {},
   "source": [
    "We can see from the graph that a customer with dependents is less likely to churn. There is a 10.8% difference in the churn rate of customers with dependents and customers without dependents, which indicates that the dependent field will be useful for durring modeling. This isn't something that we can influence, but it will be helpful in predicting churn probability."
   ]
  },
  {
   "cell_type": "markdown",
   "id": "b8d5a298",
   "metadata": {},
   "source": [
    "## Exploration Summary\n",
    "* Having both phone and internet services increased the churn rate of customers.\n",
    "* Customers without neither online security or online backup services had a higher churn rate than customers that have at least one service.\n",
    "* Customers with tech support have a lower churn rate than customers without it\n",
    "* Customers with dependents have a lower churn rate than customers without dependents"
   ]
  },
  {
   "cell_type": "markdown",
   "id": "ab79d51f",
   "metadata": {},
   "source": [
    "### Features that I will be using in modeling"
   ]
  },
  {
   "cell_type": "markdown",
   "id": "afd5ce7c",
   "metadata": {},
   "source": [
    "- 'multiple_phone_lines' and 'internet_service_types' will be used\n",
    "- 'online_security' and 'online_backup' will be used\n",
    "- 'tech_support' and 'device_protection' will be used\n",
    "- 'dependents' will be used\n",
    "- 'payment_type' will be used\n",
    "- 'contract_type' will be used\n",
    "- Nine parameters will be used in the modeling, 5 of these are specific to internet service customers"
   ]
  },
  {
   "cell_type": "markdown",
   "id": "a4bd5870",
   "metadata": {},
   "source": [
    "### Features that will not be used"
   ]
  },
  {
   "cell_type": "markdown",
   "id": "cd55a32c",
   "metadata": {},
   "source": [
    "- Total charges and Monthly charges will not be used due to scalling issues\n",
    "- Tenure was also not used due to scalling\n",
    "- Gender will not be used since it had minimal impact on the prediction"
   ]
  },
  {
   "cell_type": "markdown",
   "id": "minus-tulsa",
   "metadata": {},
   "source": [
    "## Modeling"
   ]
  },
  {
   "cell_type": "markdown",
   "id": "hydraulic-spectrum",
   "metadata": {},
   "source": [
    "### Introduction\n",
    "* We will be looking to identify customers who have a high churn probablity\n",
    "* We will be looking at the Recall metric to identify as many customers that are about to churn as possible\n",
    "* Our baseline prediction will be that a customer will not churn (churn = 0)\n",
    "* All models were created using the default hyperparameters"
   ]
  },
  {
   "cell_type": "code",
   "execution_count": 12,
   "id": "ranging-rebecca",
   "metadata": {},
   "outputs": [
    {
     "name": "stdout",
     "output_type": "stream",
     "text": [
      "The baseline prediction has 73.47% accuracy\n",
      "The baseline prediction has 0.00% recall\n"
     ]
    }
   ],
   "source": [
    "# create an array the same size as our training dataset with our baseline prediction\n",
    "baseline = [0] * len(train)\n",
    "print(f'The baseline prediction has {(train.churn == baseline).mean():.2%} accuracy')\n",
    "print(f'The baseline prediction has {recall_score(train.churn, baseline):.2%} recall')"
   ]
  },
  {
   "cell_type": "markdown",
   "id": "85956962",
   "metadata": {},
   "source": [
    "Since our baseline prediction is that a customer will never churn, its recall score is 0.00%"
   ]
  },
  {
   "cell_type": "code",
   "execution_count": 13,
   "id": "cab23e1d",
   "metadata": {},
   "outputs": [],
   "source": [
    "# prepare data for input into machine learning models\n",
    "train_X, validate_X, test_X,\\\n",
    "train_y, validate_y, test_y \\\n",
    "= m.model_prep(train,validate,test)"
   ]
  },
  {
   "cell_type": "markdown",
   "id": "90fb884b",
   "metadata": {},
   "source": [
    "### Decision Tree Model"
   ]
  },
  {
   "cell_type": "code",
   "execution_count": 14,
   "id": "e26815ef",
   "metadata": {},
   "outputs": [
    {
     "name": "stdout",
     "output_type": "stream",
     "text": [
      "Decision Tree Model\n",
      "Recall score on train: 65.97%\n",
      "Recall score on validate: 56.57%\n"
     ]
    }
   ],
   "source": [
    "# retrieve decision tree ML model\n",
    "dt = m.get_decision_tree(train_X, validate_X, train_y, validate_y)"
   ]
  },
  {
   "cell_type": "markdown",
   "id": "c7b21917",
   "metadata": {},
   "source": [
    "### Random Forest Model"
   ]
  },
  {
   "cell_type": "code",
   "execution_count": 15,
   "id": "1f7ffe8b",
   "metadata": {},
   "outputs": [
    {
     "name": "stdout",
     "output_type": "stream",
     "text": [
      "Random Forest Model\n",
      "Recall score on train: 70.75%\n",
      "Recall score on validate: 58.13%\n"
     ]
    }
   ],
   "source": [
    "# retrieve random forest ML model\n",
    "rf = m.get_random_forest(train_X, validate_X, train_y, validate_y)"
   ]
  },
  {
   "cell_type": "markdown",
   "id": "bb169bf5",
   "metadata": {},
   "source": [
    "### Logistic Regression Model"
   ]
  },
  {
   "cell_type": "code",
   "execution_count": 16,
   "id": "a25b7046",
   "metadata": {},
   "outputs": [
    {
     "name": "stdout",
     "output_type": "stream",
     "text": [
      "Logistic Regression Model\n",
      "Recall score on train: 70.84%\n",
      "Recall score on validate: 58.35%\n"
     ]
    }
   ],
   "source": [
    "# retrieve logistic regression ML model\n",
    "lr = m.get_logistic_regression(train_X, validate_X, train_y, validate_y)"
   ]
  },
  {
   "cell_type": "markdown",
   "id": "regulated-fellowship",
   "metadata": {},
   "source": [
    "### Test Model\n",
    "* We will use the Random Forest Classifier model for our test data\n",
    "* The Random Forest model consistantly had the highest recall scores out of the models used"
   ]
  },
  {
   "cell_type": "code",
   "execution_count": 17,
   "id": "optical-quilt",
   "metadata": {},
   "outputs": [
    {
     "name": "stdout",
     "output_type": "stream",
     "text": [
      "Random Forest Model\n",
      "Recall score on test: 54.81%\n"
     ]
    }
   ],
   "source": [
    "# get customer churn rate predicion using the random forest model on the test data\n",
    "m.get_rf_test(test_X, test_y, rf)"
   ]
  },
  {
   "cell_type": "markdown",
   "id": "bright-evans",
   "metadata": {},
   "source": [
    "### Modeling Wrap \n",
    "* The Random Forest Classifier model had an accuracy score of between 76% to 83%, since the baseline accuracy was 73.5% the random forest model did perform slightly better than baseline in accuracy.\n",
    "* However, we were concerned more with the recall score than the accuracy score, and since the baseline had a recall score of 0% the random forest model performed far better, with a recall score between 55% to 71%.\n",
    "* We would recommend using the random forest model in predicting customer churn."
   ]
  },
  {
   "cell_type": "markdown",
   "id": "tutorial-twelve",
   "metadata": {},
   "source": [
    "## Conclusion\n",
    "\n",
    "### Summary\n",
    "* We identified that services such as online security, online backup, device protection and tech support reduced customer churn rate.\n",
    "* We were able to use the identified services to predict customer churn rate using a random forest classifier machine learning model.\n",
    "* Our random forest model was able to identify up to 70% of customers who were likely to churn.\n",
    "\n",
    "### Recommendations\n",
    "* Using the prediction model that we have created, we would recommend identifying customers who have high probability of churn, and offering them additional services at reduced rates with the hopes of preventing the customer from churning.\n",
    "\n",
    "### Next Steps\n",
    "* If given more time we would recommend segmenting the dataset into groups of customers who are only internet service customers, only phone customers, and customers who are subscribed to both internet and phone services. This is because there are many metrics in the dataset which are specific to each service, and as we identified, customers who are subscribed to both services have a higher rate of churn than customers with only one service type.\n",
    "* If we had more time, we could also tune the model hyperparameters to increase model recall score instead of using default for everything."
   ]
  }
 ],
 "metadata": {
  "kernelspec": {
   "display_name": "Python 3 (ipykernel)",
   "language": "python",
   "name": "python3"
  },
  "language_info": {
   "codemirror_mode": {
    "name": "ipython",
    "version": 3
   },
   "file_extension": ".py",
   "mimetype": "text/x-python",
   "name": "python",
   "nbconvert_exporter": "python",
   "pygments_lexer": "ipython3",
   "version": "3.9.13"
  }
 },
 "nbformat": 4,
 "nbformat_minor": 5
}
