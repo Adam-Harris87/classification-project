{
 "cells": [
  {
   "cell_type": "markdown",
   "id": "premier-milan",
   "metadata": {},
   "source": [
    "# Telco customer churn rates"
   ]
  },
  {
   "cell_type": "markdown",
   "id": "688dcced",
   "metadata": {},
   "source": [
    "## Goal:\n",
    "- Discover factors that lead to a customer canceling their telecommunication service contract\n",
    "- Predict if a customer will cancel their service contract (churn)"
   ]
  },
  {
   "cell_type": "markdown",
   "id": "going-assembly",
   "metadata": {},
   "source": [
    "## Imports"
   ]
  },
  {
   "cell_type": "code",
   "execution_count": 1,
   "id": "divided-poster",
   "metadata": {},
   "outputs": [
    {
     "name": "stdout",
     "output_type": "stream",
     "text": [
      "opening data from file\n"
     ]
    }
   ],
   "source": [
    "# import libraries for working with arrays and DataFrames\n",
    "import numpy as np\n",
    "import pandas as pd\n",
    "# import data visualization libraries\n",
    "import matplotlib.pyplot as plt\n",
    "import seaborn as sns\n",
    "# import statistics tools\n",
    "from scipy import stats\n",
    "# import machine learning algorithms\n",
    "from sklearn.tree import DecisionTreeClassifier\n",
    "from sklearn.ensemble import RandomForestClassifier\n",
    "from sklearn.neighbors import KNeighborsClassifier\n",
    "from sklearn.linear_model import LogisticRegression\n",
    "# import machine learning metric tools\n",
    "from sklearn.metrics import classification_report, confusion_matrix, recall_score,\\\n",
    "accuracy_score\n",
    "# import functions for retrieving and cleaning telco dataset\n",
    "import prepare as p\n",
    "# import functions for exploration visualizations\n",
    "import explore as e"
   ]
  },
  {
   "cell_type": "markdown",
   "id": "criminal-glory",
   "metadata": {},
   "source": [
    "## Acquire\n",
    "\n",
    "* The dataset used in this project was acquired from the Codeup database\n",
    "* The dataset was downloaded via SQL connection\n",
    "* The original size of dataset was 7043 rows and 24 columns\n",
    "* Each row represents one customer's contract with the telecom company\n",
    "* Each column represents one aspect of a customer's contract"
   ]
  },
  {
   "cell_type": "markdown",
   "id": "impossible-bible",
   "metadata": {},
   "source": [
    "## Prepare\n",
    "\n",
    "* We removed the 'payment_type_id', 'internet_service_type_id', 'contract_type_id' because they were redundant information\n",
    "* The 'total_charges' column was converted from object data type to float type\n",
    "* Columns with yes/no values were converted to 1/0\n",
    "* Encoded categorical variables into dummies\n",
    "* Columns were then renamed to remove spaces and parenthesis\n",
    "* A column was created to identify customers without a subscription to either online security or online backup services\n",
    "* Data was split into train, validate and test groups (56%, 24%, 20%), stratifying on the 'churn' column"
   ]
  },
  {
   "cell_type": "code",
   "execution_count": 2,
   "id": "flexible-irrigation",
   "metadata": {},
   "outputs": [
    {
     "name": "stdout",
     "output_type": "stream",
     "text": [
      "opening data from file\n"
     ]
    }
   ],
   "source": [
    "# retrieve data from SQL server, and perform cleaning tasks\n",
    "df = p.wrangle()\n",
    "# split data for machine learning tasks\n",
    "train, validate, test = p.split_data(df)"
   ]
  },
  {
   "cell_type": "markdown",
   "id": "5db71d59",
   "metadata": {},
   "source": [
    "## A look at the data"
   ]
  },
  {
   "cell_type": "code",
   "execution_count": 3,
   "id": "fbf66685",
   "metadata": {},
   "outputs": [
    {
     "data": {
      "text/html": [
       "<div>\n",
       "<style scoped>\n",
       "    .dataframe tbody tr th:only-of-type {\n",
       "        vertical-align: middle;\n",
       "    }\n",
       "\n",
       "    .dataframe tbody tr th {\n",
       "        vertical-align: top;\n",
       "    }\n",
       "\n",
       "    .dataframe thead th {\n",
       "        text-align: right;\n",
       "    }\n",
       "</style>\n",
       "<table border=\"1\" class=\"dataframe\">\n",
       "  <thead>\n",
       "    <tr style=\"text-align: right;\">\n",
       "      <th></th>\n",
       "      <th>customer_id</th>\n",
       "      <th>gender</th>\n",
       "      <th>senior_citizen</th>\n",
       "      <th>partner</th>\n",
       "      <th>dependents</th>\n",
       "      <th>tenure</th>\n",
       "      <th>phone_service</th>\n",
       "      <th>multiple_lines</th>\n",
       "      <th>online_security</th>\n",
       "      <th>online_backup</th>\n",
       "      <th>...</th>\n",
       "      <th>streaming_movies_no_internet_service</th>\n",
       "      <th>streaming_movies_yes</th>\n",
       "      <th>contract_type_one_year</th>\n",
       "      <th>contract_type_two_year</th>\n",
       "      <th>internet_service_type_fiber_optic</th>\n",
       "      <th>internet_service_type_none</th>\n",
       "      <th>payment_type_credit_card_automatic</th>\n",
       "      <th>payment_type_electronic_check</th>\n",
       "      <th>payment_type_mailed_check</th>\n",
       "      <th>neither_security_or_backup</th>\n",
       "    </tr>\n",
       "  </thead>\n",
       "  <tbody>\n",
       "    <tr>\n",
       "      <th>1843</th>\n",
       "      <td>2676-ISHSF</td>\n",
       "      <td>Male</td>\n",
       "      <td>0</td>\n",
       "      <td>0</td>\n",
       "      <td>0</td>\n",
       "      <td>1</td>\n",
       "      <td>1</td>\n",
       "      <td>No</td>\n",
       "      <td>No internet service</td>\n",
       "      <td>No internet service</td>\n",
       "      <td>...</td>\n",
       "      <td>1</td>\n",
       "      <td>0</td>\n",
       "      <td>0</td>\n",
       "      <td>0</td>\n",
       "      <td>0</td>\n",
       "      <td>1</td>\n",
       "      <td>0</td>\n",
       "      <td>0</td>\n",
       "      <td>1</td>\n",
       "      <td>False</td>\n",
       "    </tr>\n",
       "    <tr>\n",
       "      <th>5717</th>\n",
       "      <td>8050-XGRVL</td>\n",
       "      <td>Female</td>\n",
       "      <td>0</td>\n",
       "      <td>1</td>\n",
       "      <td>1</td>\n",
       "      <td>62</td>\n",
       "      <td>1</td>\n",
       "      <td>No</td>\n",
       "      <td>Yes</td>\n",
       "      <td>No</td>\n",
       "      <td>...</td>\n",
       "      <td>0</td>\n",
       "      <td>0</td>\n",
       "      <td>1</td>\n",
       "      <td>0</td>\n",
       "      <td>0</td>\n",
       "      <td>0</td>\n",
       "      <td>1</td>\n",
       "      <td>0</td>\n",
       "      <td>0</td>\n",
       "      <td>False</td>\n",
       "    </tr>\n",
       "    <tr>\n",
       "      <th>1083</th>\n",
       "      <td>1576-PFZIW</td>\n",
       "      <td>Male</td>\n",
       "      <td>1</td>\n",
       "      <td>1</td>\n",
       "      <td>0</td>\n",
       "      <td>70</td>\n",
       "      <td>1</td>\n",
       "      <td>No</td>\n",
       "      <td>Yes</td>\n",
       "      <td>Yes</td>\n",
       "      <td>...</td>\n",
       "      <td>0</td>\n",
       "      <td>1</td>\n",
       "      <td>0</td>\n",
       "      <td>1</td>\n",
       "      <td>1</td>\n",
       "      <td>0</td>\n",
       "      <td>1</td>\n",
       "      <td>0</td>\n",
       "      <td>0</td>\n",
       "      <td>False</td>\n",
       "    </tr>\n",
       "    <tr>\n",
       "      <th>5210</th>\n",
       "      <td>7328-OWMOM</td>\n",
       "      <td>Female</td>\n",
       "      <td>0</td>\n",
       "      <td>0</td>\n",
       "      <td>1</td>\n",
       "      <td>31</td>\n",
       "      <td>1</td>\n",
       "      <td>No</td>\n",
       "      <td>No internet service</td>\n",
       "      <td>No internet service</td>\n",
       "      <td>...</td>\n",
       "      <td>1</td>\n",
       "      <td>0</td>\n",
       "      <td>1</td>\n",
       "      <td>0</td>\n",
       "      <td>0</td>\n",
       "      <td>1</td>\n",
       "      <td>1</td>\n",
       "      <td>0</td>\n",
       "      <td>0</td>\n",
       "      <td>False</td>\n",
       "    </tr>\n",
       "    <tr>\n",
       "      <th>2475</th>\n",
       "      <td>3541-ZNUHK</td>\n",
       "      <td>Female</td>\n",
       "      <td>0</td>\n",
       "      <td>1</td>\n",
       "      <td>1</td>\n",
       "      <td>55</td>\n",
       "      <td>1</td>\n",
       "      <td>Yes</td>\n",
       "      <td>Yes</td>\n",
       "      <td>Yes</td>\n",
       "      <td>...</td>\n",
       "      <td>0</td>\n",
       "      <td>0</td>\n",
       "      <td>0</td>\n",
       "      <td>0</td>\n",
       "      <td>1</td>\n",
       "      <td>0</td>\n",
       "      <td>0</td>\n",
       "      <td>1</td>\n",
       "      <td>0</td>\n",
       "      <td>False</td>\n",
       "    </tr>\n",
       "  </tbody>\n",
       "</table>\n",
       "<p>5 rows × 44 columns</p>\n",
       "</div>"
      ],
      "text/plain": [
       "     customer_id  gender  senior_citizen  partner  dependents  tenure  \\\n",
       "1843  2676-ISHSF    Male               0        0           0       1   \n",
       "5717  8050-XGRVL  Female               0        1           1      62   \n",
       "1083  1576-PFZIW    Male               1        1           0      70   \n",
       "5210  7328-OWMOM  Female               0        0           1      31   \n",
       "2475  3541-ZNUHK  Female               0        1           1      55   \n",
       "\n",
       "      phone_service multiple_lines      online_security        online_backup  \\\n",
       "1843              1             No  No internet service  No internet service   \n",
       "5717              1             No                  Yes                   No   \n",
       "1083              1             No                  Yes                  Yes   \n",
       "5210              1             No  No internet service  No internet service   \n",
       "2475              1            Yes                  Yes                  Yes   \n",
       "\n",
       "      ... streaming_movies_no_internet_service streaming_movies_yes  \\\n",
       "1843  ...                                    1                    0   \n",
       "5717  ...                                    0                    0   \n",
       "1083  ...                                    0                    1   \n",
       "5210  ...                                    1                    0   \n",
       "2475  ...                                    0                    0   \n",
       "\n",
       "     contract_type_one_year contract_type_two_year  \\\n",
       "1843                      0                      0   \n",
       "5717                      1                      0   \n",
       "1083                      0                      1   \n",
       "5210                      1                      0   \n",
       "2475                      0                      0   \n",
       "\n",
       "      internet_service_type_fiber_optic  internet_service_type_none  \\\n",
       "1843                                  0                           1   \n",
       "5717                                  0                           0   \n",
       "1083                                  1                           0   \n",
       "5210                                  0                           1   \n",
       "2475                                  1                           0   \n",
       "\n",
       "      payment_type_credit_card_automatic  payment_type_electronic_check  \\\n",
       "1843                                   0                              0   \n",
       "5717                                   1                              0   \n",
       "1083                                   1                              0   \n",
       "5210                                   1                              0   \n",
       "2475                                   0                              1   \n",
       "\n",
       "     payment_type_mailed_check neither_security_or_backup  \n",
       "1843                         1                      False  \n",
       "5717                         0                      False  \n",
       "1083                         0                      False  \n",
       "5210                         0                      False  \n",
       "2475                         0                      False  \n",
       "\n",
       "[5 rows x 44 columns]"
      ]
     },
     "execution_count": 3,
     "metadata": {},
     "output_type": "execute_result"
    }
   ],
   "source": [
    "train.head()"
   ]
  },
  {
   "cell_type": "code",
   "execution_count": 4,
   "id": "a71c9a6c",
   "metadata": {},
   "outputs": [
    {
     "data": {
      "text/html": [
       "<div>\n",
       "<style scoped>\n",
       "    .dataframe tbody tr th:only-of-type {\n",
       "        vertical-align: middle;\n",
       "    }\n",
       "\n",
       "    .dataframe tbody tr th {\n",
       "        vertical-align: top;\n",
       "    }\n",
       "\n",
       "    .dataframe thead th {\n",
       "        text-align: right;\n",
       "    }\n",
       "</style>\n",
       "<table border=\"1\" class=\"dataframe\">\n",
       "  <thead>\n",
       "    <tr style=\"text-align: right;\">\n",
       "      <th></th>\n",
       "      <th>senior_citizen</th>\n",
       "      <th>partner</th>\n",
       "      <th>dependents</th>\n",
       "      <th>tenure</th>\n",
       "      <th>phone_service</th>\n",
       "      <th>paperless_billing</th>\n",
       "      <th>monthly_charges</th>\n",
       "      <th>total_charges</th>\n",
       "      <th>churn</th>\n",
       "      <th>gender_male</th>\n",
       "      <th>...</th>\n",
       "      <th>streaming_tv_yes</th>\n",
       "      <th>streaming_movies_no_internet_service</th>\n",
       "      <th>streaming_movies_yes</th>\n",
       "      <th>contract_type_one_year</th>\n",
       "      <th>contract_type_two_year</th>\n",
       "      <th>internet_service_type_fiber_optic</th>\n",
       "      <th>internet_service_type_none</th>\n",
       "      <th>payment_type_credit_card_automatic</th>\n",
       "      <th>payment_type_electronic_check</th>\n",
       "      <th>payment_type_mailed_check</th>\n",
       "    </tr>\n",
       "  </thead>\n",
       "  <tbody>\n",
       "    <tr>\n",
       "      <th>count</th>\n",
       "      <td>3943.000000</td>\n",
       "      <td>3943.000000</td>\n",
       "      <td>3943.000000</td>\n",
       "      <td>3943.000000</td>\n",
       "      <td>3943.000000</td>\n",
       "      <td>3943.000000</td>\n",
       "      <td>3943.000000</td>\n",
       "      <td>3943.000000</td>\n",
       "      <td>3943.000000</td>\n",
       "      <td>3943.000000</td>\n",
       "      <td>...</td>\n",
       "      <td>3943.000000</td>\n",
       "      <td>3943.000000</td>\n",
       "      <td>3943.000000</td>\n",
       "      <td>3943.000000</td>\n",
       "      <td>3943.000000</td>\n",
       "      <td>3943.000000</td>\n",
       "      <td>3943.000000</td>\n",
       "      <td>3943.000000</td>\n",
       "      <td>3943.000000</td>\n",
       "      <td>3943.000000</td>\n",
       "    </tr>\n",
       "    <tr>\n",
       "      <th>mean</th>\n",
       "      <td>0.153436</td>\n",
       "      <td>0.491250</td>\n",
       "      <td>0.304844</td>\n",
       "      <td>32.515851</td>\n",
       "      <td>0.902612</td>\n",
       "      <td>0.590921</td>\n",
       "      <td>64.215191</td>\n",
       "      <td>2270.874068</td>\n",
       "      <td>0.265280</td>\n",
       "      <td>0.501902</td>\n",
       "      <td>...</td>\n",
       "      <td>0.381689</td>\n",
       "      <td>0.224195</td>\n",
       "      <td>0.381943</td>\n",
       "      <td>0.211007</td>\n",
       "      <td>0.242455</td>\n",
       "      <td>0.431905</td>\n",
       "      <td>0.224195</td>\n",
       "      <td>0.215318</td>\n",
       "      <td>0.337053</td>\n",
       "      <td>0.233071</td>\n",
       "    </tr>\n",
       "    <tr>\n",
       "      <th>std</th>\n",
       "      <td>0.360453</td>\n",
       "      <td>0.499987</td>\n",
       "      <td>0.460400</td>\n",
       "      <td>24.542484</td>\n",
       "      <td>0.296523</td>\n",
       "      <td>0.491726</td>\n",
       "      <td>30.196023</td>\n",
       "      <td>2258.592385</td>\n",
       "      <td>0.441538</td>\n",
       "      <td>0.500060</td>\n",
       "      <td>...</td>\n",
       "      <td>0.485863</td>\n",
       "      <td>0.417104</td>\n",
       "      <td>0.485924</td>\n",
       "      <td>0.408075</td>\n",
       "      <td>0.428622</td>\n",
       "      <td>0.495404</td>\n",
       "      <td>0.417104</td>\n",
       "      <td>0.411095</td>\n",
       "      <td>0.472763</td>\n",
       "      <td>0.422841</td>\n",
       "    </tr>\n",
       "    <tr>\n",
       "      <th>min</th>\n",
       "      <td>0.000000</td>\n",
       "      <td>0.000000</td>\n",
       "      <td>0.000000</td>\n",
       "      <td>0.000000</td>\n",
       "      <td>0.000000</td>\n",
       "      <td>0.000000</td>\n",
       "      <td>18.550000</td>\n",
       "      <td>0.000000</td>\n",
       "      <td>0.000000</td>\n",
       "      <td>0.000000</td>\n",
       "      <td>...</td>\n",
       "      <td>0.000000</td>\n",
       "      <td>0.000000</td>\n",
       "      <td>0.000000</td>\n",
       "      <td>0.000000</td>\n",
       "      <td>0.000000</td>\n",
       "      <td>0.000000</td>\n",
       "      <td>0.000000</td>\n",
       "      <td>0.000000</td>\n",
       "      <td>0.000000</td>\n",
       "      <td>0.000000</td>\n",
       "    </tr>\n",
       "    <tr>\n",
       "      <th>25%</th>\n",
       "      <td>0.000000</td>\n",
       "      <td>0.000000</td>\n",
       "      <td>0.000000</td>\n",
       "      <td>9.000000</td>\n",
       "      <td>1.000000</td>\n",
       "      <td>0.000000</td>\n",
       "      <td>34.000000</td>\n",
       "      <td>385.450000</td>\n",
       "      <td>0.000000</td>\n",
       "      <td>0.000000</td>\n",
       "      <td>...</td>\n",
       "      <td>0.000000</td>\n",
       "      <td>0.000000</td>\n",
       "      <td>0.000000</td>\n",
       "      <td>0.000000</td>\n",
       "      <td>0.000000</td>\n",
       "      <td>0.000000</td>\n",
       "      <td>0.000000</td>\n",
       "      <td>0.000000</td>\n",
       "      <td>0.000000</td>\n",
       "      <td>0.000000</td>\n",
       "    </tr>\n",
       "    <tr>\n",
       "      <th>50%</th>\n",
       "      <td>0.000000</td>\n",
       "      <td>0.000000</td>\n",
       "      <td>0.000000</td>\n",
       "      <td>29.000000</td>\n",
       "      <td>1.000000</td>\n",
       "      <td>1.000000</td>\n",
       "      <td>70.150000</td>\n",
       "      <td>1386.800000</td>\n",
       "      <td>0.000000</td>\n",
       "      <td>1.000000</td>\n",
       "      <td>...</td>\n",
       "      <td>0.000000</td>\n",
       "      <td>0.000000</td>\n",
       "      <td>0.000000</td>\n",
       "      <td>0.000000</td>\n",
       "      <td>0.000000</td>\n",
       "      <td>0.000000</td>\n",
       "      <td>0.000000</td>\n",
       "      <td>0.000000</td>\n",
       "      <td>0.000000</td>\n",
       "      <td>0.000000</td>\n",
       "    </tr>\n",
       "    <tr>\n",
       "      <th>75%</th>\n",
       "      <td>0.000000</td>\n",
       "      <td>1.000000</td>\n",
       "      <td>1.000000</td>\n",
       "      <td>55.000000</td>\n",
       "      <td>1.000000</td>\n",
       "      <td>1.000000</td>\n",
       "      <td>89.600000</td>\n",
       "      <td>3809.375000</td>\n",
       "      <td>1.000000</td>\n",
       "      <td>1.000000</td>\n",
       "      <td>...</td>\n",
       "      <td>1.000000</td>\n",
       "      <td>0.000000</td>\n",
       "      <td>1.000000</td>\n",
       "      <td>0.000000</td>\n",
       "      <td>0.000000</td>\n",
       "      <td>1.000000</td>\n",
       "      <td>0.000000</td>\n",
       "      <td>0.000000</td>\n",
       "      <td>1.000000</td>\n",
       "      <td>0.000000</td>\n",
       "    </tr>\n",
       "    <tr>\n",
       "      <th>max</th>\n",
       "      <td>1.000000</td>\n",
       "      <td>1.000000</td>\n",
       "      <td>1.000000</td>\n",
       "      <td>72.000000</td>\n",
       "      <td>1.000000</td>\n",
       "      <td>1.000000</td>\n",
       "      <td>118.750000</td>\n",
       "      <td>8672.450000</td>\n",
       "      <td>1.000000</td>\n",
       "      <td>1.000000</td>\n",
       "      <td>...</td>\n",
       "      <td>1.000000</td>\n",
       "      <td>1.000000</td>\n",
       "      <td>1.000000</td>\n",
       "      <td>1.000000</td>\n",
       "      <td>1.000000</td>\n",
       "      <td>1.000000</td>\n",
       "      <td>1.000000</td>\n",
       "      <td>1.000000</td>\n",
       "      <td>1.000000</td>\n",
       "      <td>1.000000</td>\n",
       "    </tr>\n",
       "  </tbody>\n",
       "</table>\n",
       "<p>8 rows × 31 columns</p>\n",
       "</div>"
      ],
      "text/plain": [
       "       senior_citizen      partner   dependents       tenure  phone_service  \\\n",
       "count     3943.000000  3943.000000  3943.000000  3943.000000    3943.000000   \n",
       "mean         0.153436     0.491250     0.304844    32.515851       0.902612   \n",
       "std          0.360453     0.499987     0.460400    24.542484       0.296523   \n",
       "min          0.000000     0.000000     0.000000     0.000000       0.000000   \n",
       "25%          0.000000     0.000000     0.000000     9.000000       1.000000   \n",
       "50%          0.000000     0.000000     0.000000    29.000000       1.000000   \n",
       "75%          0.000000     1.000000     1.000000    55.000000       1.000000   \n",
       "max          1.000000     1.000000     1.000000    72.000000       1.000000   \n",
       "\n",
       "       paperless_billing  monthly_charges  total_charges        churn  \\\n",
       "count        3943.000000      3943.000000    3943.000000  3943.000000   \n",
       "mean            0.590921        64.215191    2270.874068     0.265280   \n",
       "std             0.491726        30.196023    2258.592385     0.441538   \n",
       "min             0.000000        18.550000       0.000000     0.000000   \n",
       "25%             0.000000        34.000000     385.450000     0.000000   \n",
       "50%             1.000000        70.150000    1386.800000     0.000000   \n",
       "75%             1.000000        89.600000    3809.375000     1.000000   \n",
       "max             1.000000       118.750000    8672.450000     1.000000   \n",
       "\n",
       "       gender_male  ...  streaming_tv_yes  \\\n",
       "count  3943.000000  ...       3943.000000   \n",
       "mean      0.501902  ...          0.381689   \n",
       "std       0.500060  ...          0.485863   \n",
       "min       0.000000  ...          0.000000   \n",
       "25%       0.000000  ...          0.000000   \n",
       "50%       1.000000  ...          0.000000   \n",
       "75%       1.000000  ...          1.000000   \n",
       "max       1.000000  ...          1.000000   \n",
       "\n",
       "       streaming_movies_no_internet_service  streaming_movies_yes  \\\n",
       "count                           3943.000000           3943.000000   \n",
       "mean                               0.224195              0.381943   \n",
       "std                                0.417104              0.485924   \n",
       "min                                0.000000              0.000000   \n",
       "25%                                0.000000              0.000000   \n",
       "50%                                0.000000              0.000000   \n",
       "75%                                0.000000              1.000000   \n",
       "max                                1.000000              1.000000   \n",
       "\n",
       "       contract_type_one_year  contract_type_two_year  \\\n",
       "count             3943.000000             3943.000000   \n",
       "mean                 0.211007                0.242455   \n",
       "std                  0.408075                0.428622   \n",
       "min                  0.000000                0.000000   \n",
       "25%                  0.000000                0.000000   \n",
       "50%                  0.000000                0.000000   \n",
       "75%                  0.000000                0.000000   \n",
       "max                  1.000000                1.000000   \n",
       "\n",
       "       internet_service_type_fiber_optic  internet_service_type_none  \\\n",
       "count                        3943.000000                 3943.000000   \n",
       "mean                            0.431905                    0.224195   \n",
       "std                             0.495404                    0.417104   \n",
       "min                             0.000000                    0.000000   \n",
       "25%                             0.000000                    0.000000   \n",
       "50%                             0.000000                    0.000000   \n",
       "75%                             1.000000                    0.000000   \n",
       "max                             1.000000                    1.000000   \n",
       "\n",
       "       payment_type_credit_card_automatic  payment_type_electronic_check  \\\n",
       "count                         3943.000000                    3943.000000   \n",
       "mean                             0.215318                       0.337053   \n",
       "std                              0.411095                       0.472763   \n",
       "min                              0.000000                       0.000000   \n",
       "25%                              0.000000                       0.000000   \n",
       "50%                              0.000000                       0.000000   \n",
       "75%                              0.000000                       1.000000   \n",
       "max                              1.000000                       1.000000   \n",
       "\n",
       "       payment_type_mailed_check  \n",
       "count                3943.000000  \n",
       "mean                    0.233071  \n",
       "std                     0.422841  \n",
       "min                     0.000000  \n",
       "25%                     0.000000  \n",
       "50%                     0.000000  \n",
       "75%                     0.000000  \n",
       "max                     1.000000  \n",
       "\n",
       "[8 rows x 31 columns]"
      ]
     },
     "execution_count": 4,
     "metadata": {},
     "output_type": "execute_result"
    }
   ],
   "source": [
    "train.describe()"
   ]
  },
  {
   "cell_type": "markdown",
   "id": "immediate-mirror",
   "metadata": {},
   "source": [
    "## Explore\n",
    "\n",
    "* Here you will explore your data then highlight 4 questions that you asked of the data and how those questions influenced your analysis\n",
    "* Remember to split your data before exploring how different variables relate to one another\n",
    "* Each question should be stated directly \n",
    "* Each question should be supported by a visualization\n",
    "* Each question should be answered in natural language\n",
    "* Two questions must be supported by a statistical test, but you may choose to support more than two\n",
    "* See the following example, and read the comments in the next cell"
   ]
  },
  {
   "cell_type": "markdown",
   "id": "functional-sierra",
   "metadata": {},
   "source": [
    "**The following empty code block** is here to represent the countless questions, visualizations, and statistical tests \n",
    "that did not make your final report. Data scientist often create a myriad of questions, visualizations \n",
    "and statistical tests that do not make it into the final notebook. This is okay and expected. Remember \n",
    "that shotgun approaches to your data such as using pair plots to look at the relationships of each feature \n",
    "are a great way to explore your data, but they have no place in your final report. \n",
    "**Your final report is about showing and supporting your findings, not showing the work you did to get there!**"
   ]
  },
  {
   "cell_type": "markdown",
   "id": "8671e482",
   "metadata": {},
   "source": [
    "### How often do customers churn?"
   ]
  },
  {
   "cell_type": "code",
   "execution_count": 5,
   "id": "approximate-thong",
   "metadata": {},
   "outputs": [
    {
     "data": {
      "image/png": "[encoded data removed]",
      "text/plain": [
       "<Figure size 640x480 with 1 Axes>"
      ]
     },
     "metadata": {},
     "output_type": "display_data"
    }
   ],
   "source": [
    "# get pie chart showing the total customer churn rate\n",
    "e.get_pie_total()"
   ]
  },
  {
   "cell_type": "markdown",
   "id": "c396bbec",
   "metadata": {},
   "source": [
    "- About 1/4 of customers (26.5%) will cancel their service contract (churn)."
   ]
  },
  {
   "cell_type": "markdown",
   "id": "74cea697",
   "metadata": {},
   "source": [
    "## 1. Do customers with one service type have a higher churn rate than customers who are subscribed to both phone and internet services?"
   ]
  },
  {
   "cell_type": "code",
   "execution_count": 6,
   "id": "c39443f6",
   "metadata": {},
   "outputs": [
    {
     "data": {
      "image/png": "[encoded data removed]",
      "text/plain": [
       "<Figure size 640x480 with 1 Axes>"
      ]
     },
     "metadata": {},
     "output_type": "display_data"
    }
   ],
   "source": [
    "# retrieve a bar graph showing the churn rates of customers with one service\n",
    "# type and customers with both service types\n",
    "e.get_bar_phone_and_internet()"
   ]
  },
  {
   "cell_type": "markdown",
   "id": "914e1072",
   "metadata": {},
   "source": [
    "- Customers who have both phone and internet services churn at a rate around 20% higher than customers who have only one service type."
   ]
  },
  {
   "cell_type": "markdown",
   "id": "2ebbc37a",
   "metadata": {},
   "source": [
    "## 2. Do customers with neither online security or online backup services have a higher churn rate than customers with at least one service?"
   ]
  },
  {
   "cell_type": "code",
   "execution_count": 7,
   "id": "57a82ec6",
   "metadata": {},
   "outputs": [
    {
     "data": {
      "image/png": "[encoded data removed]",
      "text/plain": [
       "<Figure size 640x480 with 1 Axes>"
      ]
     },
     "metadata": {},
     "output_type": "display_data"
    }
   ],
   "source": [
    "# retrieve a bar plot showing the churn rate of customers who do not have online security\n",
    "# or online backup services, and customers who have at least one service\n",
    "e.get_bar_security_or_backup()"
   ]
  },
  {
   "cell_type": "markdown",
   "id": "61f592bc",
   "metadata": {},
   "source": [
    "### We will now verify the statistical significance of these results\n",
    "\n",
    "- We will use a 95% confidence interval\n",
    "- the resulting $\\alpha$ value is: 0.05  \n",
    "\n",
    "#### H$_0$ : Customers without online security or online backup have a churn rate <= customers with at least one service\n",
    "\n",
    "#### H$_a$ : Customers without online security or online backup have a churn rate > customers with at least one service\n",
    "\n",
    "- Since we are looking at a 1-tailed t-test we will be looking for p / 2 < $\\alpha$ and a t-stat that is > 0"
   ]
  },
  {
   "cell_type": "code",
   "execution_count": 8,
   "id": "e1006a3e",
   "metadata": {},
   "outputs": [
    {
     "name": "stdout",
     "output_type": "stream",
     "text": [
      "T_stat is greater than 0: True, T_stat = 13.1502\n",
      "p-value / 2 is less than alpha: True, p-value / 2 = 4.11937e-38\n"
     ]
    }
   ],
   "source": [
    "# retrieve results of a chi-squared test\n",
    "e.get_ttest_neither_security_or_backup()"
   ]
  },
  {
   "cell_type": "markdown",
   "id": "d66c8e2c",
   "metadata": {},
   "source": [
    "The p-value is less then our assigned alpha and the t_stat is greater than 0. Therefore we have evidence that customers who are not subscribed to either online security or online backup services have a higher churn rate than customers who are subscribed to at least one service. Based on the 21% difference in means, I believe that using the online security and online backup services fields durring modeling will have a moderate imporovement on the model's scores."
   ]
  },
  {
   "cell_type": "markdown",
   "id": "6130d2c2",
   "metadata": {},
   "source": [
    "## 3. Do customers with tech support service have a lower churn rate than customers on average?"
   ]
  },
  {
   "cell_type": "code",
   "execution_count": null,
   "id": "19125773",
   "metadata": {},
   "outputs": [],
   "source": [
    "# retrieve a bar graph showing the difference in churn rate for customers who \n",
    "# are subscribed to tech support and customers who are not\n",
    "e.get_bar_tech_support()"
   ]
  },
  {
   "cell_type": "code",
   "execution_count": null,
   "id": "ada7472a",
   "metadata": {},
   "outputs": [],
   "source": []
  },
  {
   "cell_type": "markdown",
   "id": "incorrect-mailman",
   "metadata": {},
   "source": [
    "## You may use this as a template for how to ask and answer each question:"
   ]
  },
  {
   "cell_type": "markdown",
   "id": "overhead-sleep",
   "metadata": {},
   "source": [
    "### 1) Question about the data\n",
    "* Ask a question about the data for which you got a meaningful result\n",
    "* There is no connection can be a meaningful result\n",
    "\n",
    "### 2) Visualization of the data answering the question\n",
    "\n",
    "* Visualizations should be accompanied by take-aways telling the reader exactly what you want them to get from the chart\n",
    "* You can include theses as bullet points under the chart\n",
    "* Use your chart title to provide the main take-away from each visualization\n",
    "* Each visualization should answer one, and only one, of the explore questions\n",
    "\n",
    "### 3) Statistical test\n",
    "* Be sure you are using the correct statistical test for the type of variables you are testing\n",
    "* Be sure that you are not violating any of the assumptions for the statistical test you are choosing\n",
    "* Your notebook should run and produce the results of the test you are using (This may be done through imports)\n",
    "* Include an introduction to the kind of test you are doing\n",
    "* Include the Ho and Ha for the test\n",
    "* Include the alpha you are using\n",
    "* Include the readout of the p-value for the test\n",
    "* Interpret the results of the test in natural language (I reject the null hypothesis is not sufficient)\n",
    "\n",
    "### 4) Answer to the question\n",
    "* Answer the question you posed of the data by referring to the chart and statistical test (if you used one)\n",
    "* If the question relates to drivers, explain why the feature in question would/wouldn't make a good driver"
   ]
  },
  {
   "cell_type": "markdown",
   "id": "iraqi-sellers",
   "metadata": {},
   "source": [
    "## Exploration Summary\n",
    "* After your explore section, before you start modeling, provide a summary of your findings in Explore\n",
    "* Include a summary of your take-aways\n",
    "* Include a summary of the features you examined and weather or not you will be going to Modeling with each feature and why\n",
    "* It is important to note which features will be going into your model so the reader knows what features you are using to model on"
   ]
  },
  {
   "cell_type": "markdown",
   "id": "minus-tulsa",
   "metadata": {},
   "source": [
    "## Modeling"
   ]
  },
  {
   "cell_type": "markdown",
   "id": "hydraulic-spectrum",
   "metadata": {},
   "source": [
    "### Introduction\n",
    "* Explain how you will be evaluating your models\n",
    "* Include the evaluation metric you will be using and why you have chosen it\n",
    "* Create a baseline and briefly explain how it was calculated "
   ]
  },
  {
   "cell_type": "code",
   "execution_count": 9,
   "id": "ranging-rebecca",
   "metadata": {},
   "outputs": [],
   "source": [
    "# If you use code to generate your baseline run the code and generate the output here"
   ]
  },
  {
   "cell_type": "markdown",
   "id": "thick-dream",
   "metadata": {},
   "source": [
    "Printout should read: <br>\n",
    "Baseline: \"number\" \"evaluation metric\""
   ]
  },
  {
   "cell_type": "markdown",
   "id": "emotional-purchase",
   "metadata": {},
   "source": [
    "### Best 3 Models\n",
    "* Show the three best model results obtained using your selected features to predict the target variable\n",
    "* Typically students will show the top models they are able to generate for three different model types"
   ]
  },
  {
   "cell_type": "markdown",
   "id": "gentle-capability",
   "metadata": {},
   "source": [
    "## You may use this as a template for how to introduce your models:"
   ]
  },
  {
   "cell_type": "markdown",
   "id": "intensive-vietnamese",
   "metadata": {},
   "source": [
    "### Model Type"
   ]
  },
  {
   "cell_type": "code",
   "execution_count": 10,
   "id": "colonial-newport",
   "metadata": {},
   "outputs": [],
   "source": [
    "# Code that runs the best model in that model type goes here \n",
    "# (This may be imported from a module)"
   ]
  },
  {
   "cell_type": "markdown",
   "id": "distinguished-abuse",
   "metadata": {},
   "source": [
    "Printout of model code should read: <br>\n",
    "\"Model Type\" <br>\n",
    "\"evaluation metric\" on train: \"evaluation result\" <br>\n",
    "\"evaluation metric\" on validate: \"evaluation result\""
   ]
  },
  {
   "cell_type": "markdown",
   "id": "regulated-fellowship",
   "metadata": {},
   "source": [
    "### Test Model\n",
    "* Choose the best model out of the three as you best model and explain why you have chosen it\n",
    "* Explain that you will now run your final model on test data to gauge how it will perform on unseen data"
   ]
  },
  {
   "cell_type": "code",
   "execution_count": 11,
   "id": "optical-quilt",
   "metadata": {},
   "outputs": [],
   "source": [
    "# Code that runs the best overall model on test data (this may be imported from a module)"
   ]
  },
  {
   "cell_type": "markdown",
   "id": "motivated-recycling",
   "metadata": {},
   "source": [
    "Printout of model code should read: <br>\n",
    "\"Model Type\" <br>\n",
    "\"evaluation metric\" on Test: \"evaluation result\" <br>"
   ]
  },
  {
   "cell_type": "markdown",
   "id": "bright-evans",
   "metadata": {},
   "source": [
    "### Modeling Wrap \n",
    "* Give a final interpretation of how the models test score compares to the baseline and weather you would recommend this model for production"
   ]
  },
  {
   "cell_type": "markdown",
   "id": "tutorial-twelve",
   "metadata": {},
   "source": [
    "## Conclusion\n",
    "\n",
    "### Summery\n",
    "* Summarize your findings and answer the questions you brought up in explore \n",
    "* Summarize how drivers discovered lead or did not lead to a successful model \n",
    "\n",
    "### Recommendations\n",
    "* Recommendations are actions the stakeholder should take based on your insights\n",
    "\n",
    "### Next Steps\n",
    "* Next Steps are what you, as a Data Scientist, would do if provided more time to work on the project"
   ]
  },
  {
   "cell_type": "markdown",
   "id": "tender-source",
   "metadata": {},
   "source": [
    "**Where there is code in your report there should also be code comments telling the reader what each code block is doing. This is true for any and all code blocks even if you are using a function to import code from a module.**\n",
    "<br>\n",
    "<br>\n",
    "**Your Notebook should contain adequate markdown that documents your thought process, decision making, and navigation through the pipeline. As a Data Scientist, your job does not end with making data discoveries. It includes effectively communicating those discoveries as well. This means documentation is a critical part of your job.**"
   ]
  },
  {
   "cell_type": "markdown",
   "id": "frank-castle",
   "metadata": {},
   "source": [
    "# README\n",
    "\n",
    "Your README should contain all of the following elements:\n",
    "\n",
    "* **Title** Gives the name of your project\n",
    "* **Project Description** Describes what your project is and why it is important \n",
    "* **Project Goal** Clearly states what your project sets out to do and how the information gained can be applied to the real world\n",
    "* **Initial Hypotheses** Initial questions used to focus your project \n",
    "* **Project Plan** Guides the reader through the different stages of the pipeline as they relate to your project\n",
    "* **Data Dictionary** Gives a definition for each of the features used in your report and the units they are measured in, if applicable\n",
    "* **Steps to Reproduce** Gives instructions for reproducing your work. i.e. Running your notebook on someone else's computer."
   ]
  }
 ],
 "metadata": {
  "kernelspec": {
   "display_name": "Python 3 (ipykernel)",
   "language": "python",
   "name": "python3"
  },
  "language_info": {
   "codemirror_mode": {
    "name": "ipython",
    "version": 3
   },
   "file_extension": ".py",
   "mimetype": "text/x-python",
   "name": "python",
   "nbconvert_exporter": "python",
   "pygments_lexer": "ipython3",
   "version": "3.9.13"
  }
 },
 "nbformat": 4,
 "nbformat_minor": 5
}
