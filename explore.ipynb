{
 "cells": [
  {
   "cell_type": "code",
   "execution_count": 1,
   "id": "c1b39214",
   "metadata": {},
   "outputs": [],
   "source": [
    "# import libraries for working with arrays and DataFrames\n",
    "import numpy as np\n",
    "import pandas as pd\n",
    "# import data visualization libraries\n",
    "import matplotlib.pyplot as plt\n",
    "import seaborn as sns\n",
    "from scipy import stats\n",
    "# import functions for retrieving and cleaning telco dataset\n",
    "import prepare"
   ]
  },
  {
   "cell_type": "code",
   "execution_count": 2,
   "id": "1f91a501",
   "metadata": {},
   "outputs": [
    {
     "name": "stdout",
     "output_type": "stream",
     "text": [
      "opening data from file\n"
     ]
    }
   ],
   "source": [
    "# retrieve data from sql database, and clean the data\n",
    "df = prepare.wrangle()"
   ]
  },
  {
   "cell_type": "code",
   "execution_count": 3,
   "id": "195602b2",
   "metadata": {},
   "outputs": [],
   "source": [
    "# split data into train, validate, test groups\n",
    "train, validate, test = prepare.split_data(df)"
   ]
  },
  {
   "cell_type": "code",
   "execution_count": 4,
   "id": "92b82ae5",
   "metadata": {},
   "outputs": [
    {
     "data": {
      "text/html": [
       "<div>\n",
       "<style scoped>\n",
       "    .dataframe tbody tr th:only-of-type {\n",
       "        vertical-align: middle;\n",
       "    }\n",
       "\n",
       "    .dataframe tbody tr th {\n",
       "        vertical-align: top;\n",
       "    }\n",
       "\n",
       "    .dataframe thead th {\n",
       "        text-align: right;\n",
       "    }\n",
       "</style>\n",
       "<table border=\"1\" class=\"dataframe\">\n",
       "  <thead>\n",
       "    <tr style=\"text-align: right;\">\n",
       "      <th></th>\n",
       "      <th>customer_id</th>\n",
       "      <th>gender</th>\n",
       "      <th>senior_citizen</th>\n",
       "      <th>partner</th>\n",
       "      <th>dependents</th>\n",
       "      <th>tenure</th>\n",
       "      <th>phone_service</th>\n",
       "      <th>multiple_lines</th>\n",
       "      <th>online_security</th>\n",
       "      <th>online_backup</th>\n",
       "      <th>...</th>\n",
       "      <th>streaming_movies_no_internet_service</th>\n",
       "      <th>streaming_movies_yes</th>\n",
       "      <th>contract_type_one_year</th>\n",
       "      <th>contract_type_two_year</th>\n",
       "      <th>internet_service_type_fiber_optic</th>\n",
       "      <th>internet_service_type_none</th>\n",
       "      <th>payment_type_credit_card_automatic</th>\n",
       "      <th>payment_type_electronic_check</th>\n",
       "      <th>payment_type_mailed_check</th>\n",
       "      <th>neither_security_or_backup</th>\n",
       "    </tr>\n",
       "  </thead>\n",
       "  <tbody>\n",
       "    <tr>\n",
       "      <th>1843</th>\n",
       "      <td>2676-ISHSF</td>\n",
       "      <td>Male</td>\n",
       "      <td>0</td>\n",
       "      <td>0</td>\n",
       "      <td>0</td>\n",
       "      <td>1</td>\n",
       "      <td>1</td>\n",
       "      <td>No</td>\n",
       "      <td>No internet service</td>\n",
       "      <td>No internet service</td>\n",
       "      <td>...</td>\n",
       "      <td>1</td>\n",
       "      <td>0</td>\n",
       "      <td>0</td>\n",
       "      <td>0</td>\n",
       "      <td>0</td>\n",
       "      <td>1</td>\n",
       "      <td>0</td>\n",
       "      <td>0</td>\n",
       "      <td>1</td>\n",
       "      <td>False</td>\n",
       "    </tr>\n",
       "    <tr>\n",
       "      <th>5717</th>\n",
       "      <td>8050-XGRVL</td>\n",
       "      <td>Female</td>\n",
       "      <td>0</td>\n",
       "      <td>1</td>\n",
       "      <td>1</td>\n",
       "      <td>62</td>\n",
       "      <td>1</td>\n",
       "      <td>No</td>\n",
       "      <td>Yes</td>\n",
       "      <td>No</td>\n",
       "      <td>...</td>\n",
       "      <td>0</td>\n",
       "      <td>0</td>\n",
       "      <td>1</td>\n",
       "      <td>0</td>\n",
       "      <td>0</td>\n",
       "      <td>0</td>\n",
       "      <td>1</td>\n",
       "      <td>0</td>\n",
       "      <td>0</td>\n",
       "      <td>False</td>\n",
       "    </tr>\n",
       "    <tr>\n",
       "      <th>1083</th>\n",
       "      <td>1576-PFZIW</td>\n",
       "      <td>Male</td>\n",
       "      <td>1</td>\n",
       "      <td>1</td>\n",
       "      <td>0</td>\n",
       "      <td>70</td>\n",
       "      <td>1</td>\n",
       "      <td>No</td>\n",
       "      <td>Yes</td>\n",
       "      <td>Yes</td>\n",
       "      <td>...</td>\n",
       "      <td>0</td>\n",
       "      <td>1</td>\n",
       "      <td>0</td>\n",
       "      <td>1</td>\n",
       "      <td>1</td>\n",
       "      <td>0</td>\n",
       "      <td>1</td>\n",
       "      <td>0</td>\n",
       "      <td>0</td>\n",
       "      <td>False</td>\n",
       "    </tr>\n",
       "    <tr>\n",
       "      <th>5210</th>\n",
       "      <td>7328-OWMOM</td>\n",
       "      <td>Female</td>\n",
       "      <td>0</td>\n",
       "      <td>0</td>\n",
       "      <td>1</td>\n",
       "      <td>31</td>\n",
       "      <td>1</td>\n",
       "      <td>No</td>\n",
       "      <td>No internet service</td>\n",
       "      <td>No internet service</td>\n",
       "      <td>...</td>\n",
       "      <td>1</td>\n",
       "      <td>0</td>\n",
       "      <td>1</td>\n",
       "      <td>0</td>\n",
       "      <td>0</td>\n",
       "      <td>1</td>\n",
       "      <td>1</td>\n",
       "      <td>0</td>\n",
       "      <td>0</td>\n",
       "      <td>False</td>\n",
       "    </tr>\n",
       "    <tr>\n",
       "      <th>2475</th>\n",
       "      <td>3541-ZNUHK</td>\n",
       "      <td>Female</td>\n",
       "      <td>0</td>\n",
       "      <td>1</td>\n",
       "      <td>1</td>\n",
       "      <td>55</td>\n",
       "      <td>1</td>\n",
       "      <td>Yes</td>\n",
       "      <td>Yes</td>\n",
       "      <td>Yes</td>\n",
       "      <td>...</td>\n",
       "      <td>0</td>\n",
       "      <td>0</td>\n",
       "      <td>0</td>\n",
       "      <td>0</td>\n",
       "      <td>1</td>\n",
       "      <td>0</td>\n",
       "      <td>0</td>\n",
       "      <td>1</td>\n",
       "      <td>0</td>\n",
       "      <td>False</td>\n",
       "    </tr>\n",
       "  </tbody>\n",
       "</table>\n",
       "<p>5 rows × 44 columns</p>\n",
       "</div>"
      ],
      "text/plain": [
       "     customer_id  gender  senior_citizen  partner  dependents  tenure  \\\n",
       "1843  2676-ISHSF    Male               0        0           0       1   \n",
       "5717  8050-XGRVL  Female               0        1           1      62   \n",
       "1083  1576-PFZIW    Male               1        1           0      70   \n",
       "5210  7328-OWMOM  Female               0        0           1      31   \n",
       "2475  3541-ZNUHK  Female               0        1           1      55   \n",
       "\n",
       "      phone_service multiple_lines      online_security        online_backup  \\\n",
       "1843              1             No  No internet service  No internet service   \n",
       "5717              1             No                  Yes                   No   \n",
       "1083              1             No                  Yes                  Yes   \n",
       "5210              1             No  No internet service  No internet service   \n",
       "2475              1            Yes                  Yes                  Yes   \n",
       "\n",
       "      ... streaming_movies_no_internet_service streaming_movies_yes  \\\n",
       "1843  ...                                    1                    0   \n",
       "5717  ...                                    0                    0   \n",
       "1083  ...                                    0                    1   \n",
       "5210  ...                                    1                    0   \n",
       "2475  ...                                    0                    0   \n",
       "\n",
       "     contract_type_one_year contract_type_two_year  \\\n",
       "1843                      0                      0   \n",
       "5717                      1                      0   \n",
       "1083                      0                      1   \n",
       "5210                      1                      0   \n",
       "2475                      0                      0   \n",
       "\n",
       "      internet_service_type_fiber_optic  internet_service_type_none  \\\n",
       "1843                                  0                           1   \n",
       "5717                                  0                           0   \n",
       "1083                                  1                           0   \n",
       "5210                                  0                           1   \n",
       "2475                                  1                           0   \n",
       "\n",
       "      payment_type_credit_card_automatic  payment_type_electronic_check  \\\n",
       "1843                                   0                              0   \n",
       "5717                                   1                              0   \n",
       "1083                                   1                              0   \n",
       "5210                                   1                              0   \n",
       "2475                                   0                              1   \n",
       "\n",
       "     payment_type_mailed_check neither_security_or_backup  \n",
       "1843                         1                      False  \n",
       "5717                         0                      False  \n",
       "1083                         0                      False  \n",
       "5210                         0                      False  \n",
       "2475                         0                      False  \n",
       "\n",
       "[5 rows x 44 columns]"
      ]
     },
     "execution_count": 4,
     "metadata": {},
     "output_type": "execute_result"
    }
   ],
   "source": [
    "train.head()"
   ]
  },
  {
   "cell_type": "code",
   "execution_count": 5,
   "id": "ac38ce74",
   "metadata": {},
   "outputs": [
    {
     "data": {
      "text/plain": [
       "Index(['customer_id', 'gender', 'senior_citizen', 'partner', 'dependents',\n",
       "       'tenure', 'phone_service', 'multiple_lines', 'online_security',\n",
       "       'online_backup', 'device_protection', 'tech_support', 'streaming_tv',\n",
       "       'streaming_movies', 'paperless_billing', 'monthly_charges',\n",
       "       'total_charges', 'churn', 'contract_type', 'internet_service_type',\n",
       "       'payment_type', 'gender_male', 'multiple_lines_no_phone_service',\n",
       "       'multiple_lines_yes', 'online_security_no_internet_service',\n",
       "       'online_security_yes', 'online_backup_no_internet_service',\n",
       "       'online_backup_yes', 'device_protection_no_internet_service',\n",
       "       'device_protection_yes', 'tech_support_no_internet_service',\n",
       "       'tech_support_yes', 'streaming_tv_no_internet_service',\n",
       "       'streaming_tv_yes', 'streaming_movies_no_internet_service',\n",
       "       'streaming_movies_yes', 'contract_type_one_year',\n",
       "       'contract_type_two_year', 'internet_service_type_fiber_optic',\n",
       "       'internet_service_type_none', 'payment_type_credit_card_automatic',\n",
       "       'payment_type_electronic_check', 'payment_type_mailed_check',\n",
       "       'neither_security_or_backup'],\n",
       "      dtype='object')"
      ]
     },
     "execution_count": 5,
     "metadata": {},
     "output_type": "execute_result"
    }
   ],
   "source": [
    "train.columns"
   ]
  },
  {
   "cell_type": "markdown",
   "id": "2a883ce3",
   "metadata": {},
   "source": [
    "What percentage of customers will churn?"
   ]
  },
  {
   "cell_type": "code",
   "execution_count": 6,
   "id": "578422c3",
   "metadata": {},
   "outputs": [],
   "source": [
    "def get_pie_total():\n",
    "    '''This function will display a pie chart of the total customer churn rate'''\n",
    "    # create the pie chart\n",
    "    plt.pie(train.churn.value_counts(), labels=(\"Didn't churn\",'Churned'), \n",
    "            autopct='%1.1f%%', colors=('cornflowerblue', 'red'), startangle=90)\n",
    "    # give the pie chart a title\n",
    "    plt.title('About 26.5% of Customers Will Churn')\n",
    "    # display the pie chart\n",
    "    plt.show()"
   ]
  },
  {
   "cell_type": "code",
   "execution_count": 7,
   "id": "c5052732",
   "metadata": {},
   "outputs": [
    {
     "data": {
      "image/png": "[encoded data removed]",
      "text/plain": [
       "<Figure size 640x480 with 1 Axes>"
      ]
     },
     "metadata": {},
     "output_type": "display_data"
    }
   ],
   "source": [
    "get_pie_total()"
   ]
  },
  {
   "cell_type": "markdown",
   "id": "ebd6d045",
   "metadata": {},
   "source": [
    "- Do customers with both phone services and internet service churn less than average?\n",
    "- Do customers with multiple phone lines churn less than customers with phone service on average?\n",
    "- Do customers churn less with online security and online backup services than customers without?\n",
    "- Do customers with device protection and tech support churn less than customers without?\n",
    "- Does paperless billing have an effect on customer churn rate?\n",
    "- Do customers with streaming tv have a lower churn rate than those without?\n",
    "- Do customers with streaming movies have a lower churn rate than those without?\n",
    "- Do customers with both streaming tv and streaming movies churn at a lower rate than customers on average?\n",
    "- Is there a difference in churn among genders depending on if they have streaming tv or movie streaming?\n",
    "- Does payment type have an effect on churn?\n",
    "- Does contract type have an effect on churn?"
   ]
  },
  {
   "cell_type": "code",
   "execution_count": 56,
   "id": "cdb9dad8",
   "metadata": {},
   "outputs": [],
   "source": [
    "# Do customers with both phone services and internet service churn less than \n",
    "# customers that only have one service?\n",
    "\n",
    "# create a variable to group customers with both service types\n",
    "train['phone_and_internet'] = ((train.phone_service == 1) \n",
    "                               & (train.internet_service_type_none == 0))\n",
    "\n",
    "def get_bar_phone_and_internet():\n",
    "    '''\n",
    "    This function will display a barplot of customer churn rates for customers\n",
    "    who have one service type and customers who have both service types.\n",
    "    '''\n",
    "    # create the bar plot\n",
    "    sns.barplot(data=train,\n",
    "               x='phone_and_internet',\n",
    "               y='churn',\n",
    "               ci=False,\n",
    "               )\n",
    "    # change the tick labels to something understandable\n",
    "    plt.xticks(ticks=(False, True), labels=('One Service','Phone & Internet'))\n",
    "    # add axis labels\n",
    "    plt.xlabel('Customer Service Subscriptions')\n",
    "    plt.ylabel('Customer Churn Rate')\n",
    "    # add a chart title\n",
    "    plt.title('Customers With Both Phone and Internet Services Have a \\n\\\n",
    "    Higher Churn Rate Than Customers With Only One Service Type')\n",
    "    # add a line showing the average churn rate\n",
    "    plt.axhline(train.churn.mean(), ls='--', color='black', label='Average Churn')\n",
    "    # create a legend to describe the avg churn rate line\n",
    "    plt.legend()\n",
    "    # show the chart\n",
    "    plt.show()"
   ]
  },
  {
   "cell_type": "code",
   "execution_count": 57,
   "id": "b167c800",
   "metadata": {},
   "outputs": [
    {
     "data": {
      "image/png": "[encoded data removed]",
      "text/plain": [
       "<Figure size 640x480 with 1 Axes>"
      ]
     },
     "metadata": {},
     "output_type": "display_data"
    }
   ],
   "source": [
    "get_bar_phone_and_internet()"
   ]
  },
  {
   "cell_type": "markdown",
   "id": "8b61785a",
   "metadata": {},
   "source": [
    "customers with phone and internet service appear to churn at a rate around 20% higher than customers with only one service."
   ]
  },
  {
   "cell_type": "code",
   "execution_count": null,
   "id": "53dbca7c",
   "metadata": {},
   "outputs": [],
   "source": [
    "internet = train[train.internet_service_type_none == 0]"
   ]
  },
  {
   "cell_type": "code",
   "execution_count": null,
   "id": "eb8771be",
   "metadata": {},
   "outputs": [],
   "source": [
    "internet"
   ]
  },
  {
   "cell_type": "markdown",
   "id": "a36e7b61",
   "metadata": {},
   "source": [
    "# Do customers without online security or online backup have a higher churn rate than customers with at least one of these services?\n",
    "\n",
    "H$_0$ : customers with neither online security or backup churn rate is <= than customers with one or both of these services\n",
    "\n",
    "H$_a$ : customers with neither online security or backup churn rate is > than customers with one or both of these services\n",
    "\n",
    "$\\alpha$: 0.05   "
   ]
  },
  {
   "cell_type": "code",
   "execution_count": null,
   "id": "ec845106",
   "metadata": {},
   "outputs": [],
   "source": [
    "train['neither_security_or_backup'] = ((train.online_backup == 'No') \n",
    "                                   & (train.online_security == 'No'))"
   ]
  },
  {
   "cell_type": "code",
   "execution_count": null,
   "id": "f7054dc2",
   "metadata": {},
   "outputs": [],
   "source": [
    "def get_bar_security_or_backup():\n",
    "    ''' \n",
    "    This function will display a bar plot showing the churn rate of customers \n",
    "    who have security or backup services and customers who have neither service\n",
    "    '''\n",
    "    # create a bar plot\n",
    "    sns.barplot(data=train,\n",
    "                x='neither_security_or_backup',\n",
    "                y='churn',\n",
    "                ci=False)\n",
    "    # create a line showing the total average churn rate\n",
    "    plt.axhline(train.churn.mean(), ls='--', color='black', label='Total Average Churn')\n",
    "    # display a legend describing the average churn line\n",
    "    plt.legend()\n",
    "    # change the axis labels\n",
    "    plt.ylabel('Customer Churn Rate')\n",
    "    plt.xlabel('Security or Backup Subscription')\n",
    "    # change the description for each bar\n",
    "    plt.xticks(ticks=(False, True), labels=('Has At Least One Service',\n",
    "                                            'Has Neither Service'))\n",
    "    # add a title for the chart\n",
    "    plt.title('Customers With Neither Internet Security or Online Backup Services\\n\\\n",
    "    Have a Higher Churn Rate Than Customers With At Least One Service')\n",
    "    plt.show()"
   ]
  },
  {
   "cell_type": "code",
   "execution_count": null,
   "id": "03fba148",
   "metadata": {},
   "outputs": [],
   "source": [
    "get_bar_security_or_backup()"
   ]
  },
  {
   "cell_type": "code",
   "execution_count": null,
   "id": "a318cd7f",
   "metadata": {},
   "outputs": [],
   "source": [
    "# check if variances are equal\n",
    "# h_0: variances are equal\n",
    "# h_a: variances are not equal\n",
    "# alpha: 0.05\n",
    "nsob_churn = train[train['neither_security_or_backup']].churn\n",
    "stats.levene(internet[mask].churn, internet[~mask].churn)"
   ]
  },
  {
   "cell_type": "markdown",
   "id": "bc7c6e82",
   "metadata": {},
   "source": [
    "The p-value of the variance test is less than our alpha. Therefore we have evidence that the variances are not equal."
   ]
  },
  {
   "cell_type": "code",
   "execution_count": null,
   "id": "814067a1",
   "metadata": {},
   "outputs": [],
   "source": [
    "internet = train[train.internet_service_type_none == 0]\n",
    "mask = ((internet.online_backup == 'No') & (internet.online_security == 'No'))"
   ]
  },
  {
   "cell_type": "code",
   "execution_count": null,
   "id": "377ce7e7",
   "metadata": {},
   "outputs": [],
   "source": [
    "internet[~mask]"
   ]
  },
  {
   "cell_type": "code",
   "execution_count": null,
   "id": "083de81a",
   "metadata": {},
   "outputs": [],
   "source": [
    "def get_ttest_neither_security_or_backup():\n",
    "    '''\n",
    "    This function will perform a t-test on the sample of customers who do not have either\n",
    "    online security or backup services, compared to the churn rate of all customers\n",
    "    '''\n",
    "    # set the alpha score\n",
    "    alpha = 0.05\n",
    "    # get a subset of customers who have internet service\n",
    "    internet = train[train.internet_service_type_none == 0]\n",
    "    # get the churn rate of customer subsets that we are looking at\n",
    "    mask = ((internet.online_backup == 'No') & (internet.online_security == 'No'))\n",
    "    # run the t-test on our 2 subsets\n",
    "    t_stat, p = stats.ttest_ind(internet[mask].churn, \n",
    "                                internet[~mask].churn, equal_var=False)\n",
    "    # a t-stat > 0 and p / 2 < alpha will indicate that having neither security\n",
    "    # or backup services has a higher churn rate than customers with at least one service\n",
    "    print(f'T_stat is greater than 0: {t_stat > 0}, T_stat = {t_stat:.6}')\n",
    "    print(f'p-value / 2 is less than alpha: {p / 2 < alpha}, p-value / 2 = {p/2:.6}')"
   ]
  },
  {
   "cell_type": "code",
   "execution_count": null,
   "id": "a0d76374",
   "metadata": {},
   "outputs": [],
   "source": [
    "get_ttest_neither_security_or_backup()"
   ]
  },
  {
   "cell_type": "code",
   "execution_count": null,
   "id": "914ee998",
   "metadata": {},
   "outputs": [],
   "source": [
    "train[train['neither_security_or_backup']].churn.mean() - train.churn.mean()"
   ]
  },
  {
   "cell_type": "markdown",
   "id": "2c1eef60",
   "metadata": {},
   "source": [
    "## 3. Do customers with tech support service have a lower churn rate than customers on average?"
   ]
  },
  {
   "cell_type": "code",
   "execution_count": null,
   "id": "52d2eaae",
   "metadata": {},
   "outputs": [],
   "source": [
    "def get_bar_tech_support():\n",
    "    '''\n",
    "    This function will display a bar graph of the churn rate of customers who have tech\n",
    "    support service and customers who do not.\n",
    "    '''\n",
    "    # create the bar chart\n",
    "    sns.barplot(data=train,\n",
    "                x='tech_support_yes',\n",
    "                y='churn',\n",
    "                ci=False)\n",
    "    # change the xtick labels to understandable text\n",
    "    plt.xticks(ticks=(0,1), labels=('No Tech Support', 'Has Tech Support'))\n",
    "    # create x and y axis labels\n",
    "    plt.xlabel('Customers With or Without Tech Support')\n",
    "    plt.ylabel('Customer Churn Rate')\n",
    "    # create a chart title\n",
    "    plt.title('Customers With Tech Support Have a Lower Churn Rate\\n\\\n",
    "    Than Customers Without Tech Support')\n",
    "    # create a line showing the overall average churn rate\n",
    "    plt.axhline(train.churn.mean(), ls='--', color='black', label='Total Average Churn')\n",
    "    # add a legend describing the average churn rate line\n",
    "    plt.legend()\n",
    "    # show the chart\n",
    "    plt.show()"
   ]
  },
  {
   "cell_type": "code",
   "execution_count": null,
   "id": "c619eef7",
   "metadata": {},
   "outputs": [],
   "source": [
    "get_bar_tech_support()"
   ]
  },
  {
   "cell_type": "markdown",
   "id": "56b19d75",
   "metadata": {},
   "source": [
    "# Do customers with tech support service have a lower churn rate than customers without it?\n",
    "\n",
    "H$_0$ : Customers with tech support have a churn rate >= than customers without it\n",
    "\n",
    "H$_a$ : Customers with tech support have a churn rate < than customers without it\n",
    "\n",
    "$\\alpha$: 0.05   "
   ]
  },
  {
   "cell_type": "code",
   "execution_count": null,
   "id": "874250df",
   "metadata": {},
   "outputs": [],
   "source": [
    "def get_ttest_tech_support():\n",
    "    '''\n",
    "    This function will perform a t-test on the sample of customers who have tech support\n",
    "    compared to the churn rate of all customers.\n",
    "    '''\n",
    "    # set the alpha score\n",
    "    alpha = 0.05\n",
    "    # get the churn rate of customer subset that we are looking at\n",
    "    tech_churn = train[train['tech_support_yes'] == 1].churn\n",
    "    # run the t-test on our sample compared to the total churn rate\n",
    "    t_stat, p = stats.ttest_ind(tech_churn, \n",
    "                                train.churn, equal_var=False)\n",
    "    # a t-stat < 0 and p / 2 < alpha will indicate that customers with tech support service\n",
    "    # have a lower churn rate than customers without it\n",
    "    print(f'T_stat is less than 0: {t_stat < 0}, T_stat = {t_stat:.6}')\n",
    "    print(f'p-value / 2 is less than alpha: {p / 2 < alpha}, p-value / 2 = {p/2:.6}')"
   ]
  },
  {
   "cell_type": "code",
   "execution_count": null,
   "id": "f99a02eb",
   "metadata": {},
   "outputs": [],
   "source": [
    "get_ttest_tech_support()"
   ]
  },
  {
   "cell_type": "code",
   "execution_count": null,
   "id": "6b14692e",
   "metadata": {},
   "outputs": [],
   "source": [
    "train.churn.mean() - train[train['tech_support_yes'] == 1].churn.mean()"
   ]
  },
  {
   "cell_type": "code",
   "execution_count": null,
   "id": "634c8cbc",
   "metadata": {},
   "outputs": [],
   "source": [
    "# Does paperless billing have an effect on customer churn rate?\n",
    "pd.crosstab(train.paperless_billing, train.churn)"
   ]
  },
  {
   "cell_type": "code",
   "execution_count": null,
   "id": "0eb0a60e",
   "metadata": {},
   "outputs": [],
   "source": [
    "stats.chi2_contingency(pd.crosstab(train.paperless_billing, train.churn))"
   ]
  },
  {
   "cell_type": "code",
   "execution_count": null,
   "id": "f7f68bce",
   "metadata": {},
   "outputs": [],
   "source": [
    "sns.barplot(data=train,\n",
    "           x='paperless_billing',\n",
    "           y='churn',\n",
    "           ci=False)\n",
    "plt.show()"
   ]
  },
  {
   "cell_type": "code",
   "execution_count": null,
   "id": "e76972d3",
   "metadata": {},
   "outputs": [],
   "source": [
    "# Do customers with both streaming tv and streaming movies churn at a \n",
    "# lower rate than customers on average?"
   ]
  },
  {
   "cell_type": "code",
   "execution_count": null,
   "id": "e7f42efd",
   "metadata": {},
   "outputs": [],
   "source": [
    "def get_bar_dependents():\n",
    "    '''\n",
    "    This function will display a visualization for customer churn rate based on if\n",
    "    the customer has dependents or not.\n",
    "    '''\n",
    "    # Does a customer having dependents change the rate of customer churn?\n",
    "    # create the bar graph\n",
    "    sns.barplot(data=train,\n",
    "                x='dependents',\n",
    "                y='churn',\n",
    "                ci=False)\n",
    "    # change the xticks to something understandable\n",
    "    plt.xticks(ticks=(0,1), labels=('No Dependents', 'Has Dependents'))\n",
    "    # change the axis labels\n",
    "    plt.xlabel('Customer Dependents')\n",
    "    plt.ylabel('Customer Churn Rate')\n",
    "    # create a title for the graph\n",
    "    plt.title('Customers With Dependents Have a Lower Churn Rate')\n",
    "    # create a line showing the total average churn rate\n",
    "    plt.axhline(train.churn.mean(), ls='--', color='black', label='Total Average Churn')\n",
    "    # create a legend explaining the avg churn rate line\n",
    "    plt.legend()\n",
    "    # show the graph\n",
    "    plt.show()"
   ]
  },
  {
   "cell_type": "code",
   "execution_count": null,
   "id": "ab8e2c64",
   "metadata": {},
   "outputs": [],
   "source": [
    "get_bar_dependents()"
   ]
  },
  {
   "cell_type": "code",
   "execution_count": null,
   "id": "88aebc92",
   "metadata": {},
   "outputs": [],
   "source": [
    "train.churn.mean() - train[train['dependents'] == 1].churn.mean()"
   ]
  },
  {
   "cell_type": "code",
   "execution_count": null,
   "id": "0e2805aa",
   "metadata": {},
   "outputs": [],
   "source": [
    "# Do customers with streaming tv have a lower churn rate than those without?\n",
    "sns.barplot(data=internet,\n",
    "                x='streaming_tv',\n",
    "                y='churn')\n",
    "plt.show()"
   ]
  },
  {
   "cell_type": "code",
   "execution_count": null,
   "id": "80aadcec",
   "metadata": {},
   "outputs": [],
   "source": [
    "# Do customers with streaming movies have a lower churn rate than those without?\n",
    "sns.barplot(data=train,\n",
    "                x='streaming_movies',\n",
    "                y='churn')\n",
    "plt.show()"
   ]
  },
  {
   "cell_type": "code",
   "execution_count": null,
   "id": "7f00585f",
   "metadata": {},
   "outputs": [],
   "source": [
    "# does payment method affect churn rate?\n",
    "sns.barplot(data=train,\n",
    "           y='payment_type', color=('blue'),\n",
    "           x='churn',\n",
    "           ci=False)\n",
    "plt.show()"
   ]
  },
  {
   "cell_type": "code",
   "execution_count": null,
   "id": "9c0b5105",
   "metadata": {},
   "outputs": [],
   "source": [
    "# Does contract type affect churn rate?\n",
    "sns.barplot(data=train,\n",
    "           x='churn',\n",
    "           y='contract_type',\n",
    "           ci=False)\n",
    "plt.show()"
   ]
  }
 ],
 "metadata": {
  "kernelspec": {
   "display_name": "Python 3 (ipykernel)",
   "language": "python",
   "name": "python3"
  },
  "language_info": {
   "codemirror_mode": {
    "name": "ipython",
    "version": 3
   },
   "file_extension": ".py",
   "mimetype": "text/x-python",
   "name": "python",
   "nbconvert_exporter": "python",
   "pygments_lexer": "ipython3",
   "version": "3.9.13"
  }
 },
 "nbformat": 4,
 "nbformat_minor": 5
}
